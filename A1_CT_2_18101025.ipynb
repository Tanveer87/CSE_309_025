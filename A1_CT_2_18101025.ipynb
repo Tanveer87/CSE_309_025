{
  "nbformat": 4,
  "nbformat_minor": 0,
  "metadata": {
    "colab": {
      "name": "A1_CT_2_18101025.ipynb",
      "provenance": [],
      "collapsed_sections": [],
      "authorship_tag": "ABX9TyPYp7qOZRXvP4aeiKxaxVvZ",
      "include_colab_link": true
    },
    "kernelspec": {
      "name": "python3",
      "display_name": "Python 3"
    }
  },
  "cells": [
    {
      "cell_type": "markdown",
      "metadata": {
        "id": "view-in-github",
        "colab_type": "text"
      },
      "source": [
        "<a href=\"https://colab.research.google.com/github/Tanveer87/CSE_309_025/blob/master/A1_CT_2_18101025.ipynb\" target=\"_parent\"><img src=\"https://colab.research.google.com/assets/colab-badge.svg\" alt=\"Open In Colab\"/></a>"
      ]
    },
    {
      "cell_type": "markdown",
      "metadata": {
        "id": "fP-Ab-WBj1G7",
        "colab_type": "text"
      },
      "source": [
        "**1.Write a program to check Leap year.**\t"
      ]
    },
    {
      "cell_type": "code",
      "metadata": {
        "id": "Vq7GwqnOj4V3",
        "colab_type": "code",
        "colab": {
          "base_uri": "https://localhost:8080/",
          "height": 51
        },
        "outputId": "c76d4e41-63bc-4948-9cf1-a166c38de2e3"
      },
      "source": [
        "year = int(input(\"Enter a year: \"))\n",
        "\n",
        "\n",
        "if (year % 400) == 0:\n",
        "  print(\"This year is leap year\")\n",
        "\n",
        "elif (year % 100) == 0:\n",
        "  print(\"This year is  not leap year\")  \n",
        "elif (year % 4) == 0: \n",
        "  print(\"This year is   leap year\")  \n",
        "else:  \n",
        "   print(\"This year is  not leap year\")   "
      ],
      "execution_count": 2,
      "outputs": [
        {
          "output_type": "stream",
          "text": [
            "Enter a year: 2005\n",
            "This year is  not leap year\n"
          ],
          "name": "stdout"
        }
      ]
    },
    {
      "cell_type": "markdown",
      "metadata": {
        "id": "pV60AJGmlI_a",
        "colab_type": "text"
      },
      "source": [
        "**Given a string of length 12, divide the string into 4 parts of length 3. Then swap the first part with the last part. Output the final string.** \t\t\t\t\n"
      ]
    },
    {
      "cell_type": "code",
      "metadata": {
        "id": "LhdiD0pqlVcC",
        "colab_type": "code",
        "colab": {
          "base_uri": "https://localhost:8080/",
          "height": 34
        },
        "outputId": "60f881bf-04ff-45e8-ae93-99a13dcaa5d9"
      },
      "source": [
        "string_Line = \"ABCDEFGHIJKL\"\n",
        "\n",
        "PART_1=string_Line[0:3]\n",
        "PART_2=string_Line[3:6]\n",
        "PART_3=string_Line[6:9]\n",
        "PART_4=string_Line[9:12]\n",
        "\n",
        "New_string=PART_4+PART_2+PART_3+PART_1\n",
        "print(New_string)"
      ],
      "execution_count": 16,
      "outputs": [
        {
          "output_type": "stream",
          "text": [
            "JKLDEFGHIABC\n"
          ],
          "name": "stdout"
        }
      ]
    },
    {
      "cell_type": "markdown",
      "metadata": {
        "id": "RhVEZ8MKmiT_",
        "colab_type": "text"
      },
      "source": [
        "**3.Suppose you are going to start a Django Project with a group of 5 members. Now, you need to store the information (Name, ID, CGPA, Email_Address, and Contact_no) about the group members in some variables. Choose the appropriate data type where one can search a member effectively.**\t\t"
      ]
    },
    {
      "cell_type": "code",
      "metadata": {
        "id": "smeYyQRrmnSX",
        "colab_type": "code",
        "colab": {
          "base_uri": "https://localhost:8080/",
          "height": 102
        },
        "outputId": "20548303-e99b-44ef-d7d4-57608bf0886b"
      },
      "source": [
        "#we need dictionary data type for search the member effectively \n",
        "Group_member1 = {\n",
        "    \"Name\" : \"Tanveer\",\n",
        "    \"ID\" : \"18101025\",\n",
        "    \"CGPA\" : 3.5,\n",
        "    \"Email_Address\" : \"18101025@uap-bd.edu\",\n",
        "    \"Contact_no\" : \"0185856\"\n",
        "}\n",
        "\n",
        "Group_member2 = {\n",
        "    \"Name\" : \"Mashfee\",\n",
        "    \"ID\" : \"18101018\",\n",
        "    \"CGPA\" : 3.8,\n",
        "    \"Email_Address\" : \"18101018@uap-bd.edu\",\n",
        "    \"Contact_no\" : \"0185854\"\n",
        "}\n",
        "Group_member3 = {\n",
        "    \"Name\" : \"IFty\",\n",
        "    \"ID\" : \"18101014\",\n",
        "    \"CGPA\" : 3.7,\n",
        "    \"Email_Address\" : \"18101014@uap-bd.edu\",\n",
        "    \"Contact_no\" : \"0185825\"\n",
        "}\n",
        "Group_member4 = {\n",
        "    \"Name\" : \"Antik\",\n",
        "    \"ID\" : \"18101012\",\n",
        "    \"CGPA\" : 3.65,\n",
        "    \"Email_Address\" : \"18101012@uap-bd.edu\",\n",
        "    \"Contact_no\" : \"0185836\"\n",
        "}\n",
        "Group_member5 = {\n",
        "    \"Name\" : \"Adnan\",\n",
        "    \"ID\" : \"18101017\",\n",
        "    \"CGPA\" : 3.75,\n",
        "    \"Email_Address\" : \"18101017@uap-bd.edu\",\n",
        "    \"Contact_no\" : \"0185819\"\n",
        "}\n",
        "group_member = {\n",
        "    Group_member1[\"ID\"] : Group_member1,\n",
        "    Group_member2[\"ID\"] : Group_member2,\n",
        "    Group_member3[\"ID\"] : Group_member3,\n",
        "    Group_member4[\"ID\"] : Group_member4,\n",
        "    Group_member5[\"ID\"] : Group_member5\n",
        "}\n",
        "\n",
        "group_member[\"18101025\"]\n"
      ],
      "execution_count": 31,
      "outputs": [
        {
          "output_type": "execute_result",
          "data": {
            "text/plain": [
              "{'CGPA': 3.5,\n",
              " 'Contact_no': '0185856',\n",
              " 'Email_Address': '18101025@uap-bd.edu',\n",
              " 'ID': '18101025',\n",
              " 'Name': 'Tanveer'}"
            ]
          },
          "metadata": {
            "tags": []
          },
          "execution_count": 31
        }
      ]
    },
    {
      "cell_type": "markdown",
      "metadata": {
        "id": "MtGUN2XQpDNQ",
        "colab_type": "text"
      },
      "source": [
        "**4.Choose variables of appropriate data type to store the information of the following table in a way that if someone inputs the EmployeeID, it will show all the information of that Employee.**\t\t"
      ]
    },
    {
      "cell_type": "code",
      "metadata": {
        "id": "VgZtwsxApS34",
        "colab_type": "code",
        "colab": {
          "base_uri": "https://localhost:8080/",
          "height": 102
        },
        "outputId": "a2d610be-39e4-4c76-bbb4-fe628400bbfa"
      },
      "source": [
        "Employee1 = {\n",
        "    \"EmployeeID\" : 1001,\n",
        "    \"Ename\" : \"John\",\n",
        "    \"DeptID\" : 2,\n",
        "    \"Salary\" : 4000,\n",
        "    \"Dname\" : \"IT\",\n",
        "    \"Dlocation\" : \"New Delhi\"\n",
        "}\n",
        "Employee2 = {\n",
        "    \"EmployeeID\" : 1002,\n",
        "    \"Ename\" : \"Anna\",\n",
        "    \"DeptID\" : 1,\n",
        "    \"Salary\" : 3500,\n",
        "    \"Dname\" : \"HR\",\n",
        "    \"Dlocation\" : \"Mumbai\"\n",
        "}\n",
        "Employee3 = {\n",
        "    \"EmployeeID\" : 1003,\n",
        "    \"Ename\" : \"James\",\n",
        "    \"DeptID\" : 1,\n",
        "    \"Salary\" : 2500,\n",
        "    \"Dname\" : \"HR\",\n",
        "    \"Dlocation\" : \"Mumbai\"\n",
        "}\n",
        "Employee4 = {\n",
        "    \"EmployeeID\" : 1004,\n",
        "    \"Ename\" : \"David\",\n",
        "    \"DeptID\" : 2,\n",
        "    \"Salary\" : 5000,\n",
        "    \"Dname\" : \"IT\",\n",
        "    \"Dlocation\" : \"New Delhi\"\n",
        "}\n",
        "all_Employee = {\n",
        "    Employee1[\"EmployeeID\"] : Employee1,\n",
        "    Employee2[\"EmployeeID\"] : Employee2,\n",
        "    Employee3[\"EmployeeID\"] : Employee3,\n",
        "    Employee4[\"EmployeeID\"] : Employee4\n",
        "\n",
        "}\n",
        "print(all_Employee[1002][\"Ename\"])\n",
        "print(all_Employee[1002][\"DeptID\"])\n",
        "print(all_Employee[1002][\"Salary\"])\n",
        "print(all_Employee[1002][\"Dname\"])\n",
        "print(all_Employee[1002][\"Dlocation\"])\n",
        "\n",
        "\n",
        "\n"
      ],
      "execution_count": 27,
      "outputs": [
        {
          "output_type": "stream",
          "text": [
            "Anna\n",
            "1\n",
            "3500\n",
            "HR\n",
            "Mumbai\n"
          ],
          "name": "stdout"
        }
      ]
    }
  ]
}
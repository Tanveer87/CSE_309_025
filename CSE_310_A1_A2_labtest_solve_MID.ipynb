{
  "nbformat": 4,
  "nbformat_minor": 0,
  "metadata": {
    "colab": {
      "name": "CSE_310_A1_A2_labtest_solve_MID.ipynb",
      "provenance": [],
      "collapsed_sections": [],
      "authorship_tag": "ABX9TyP7lcFfF4XWF4vt+0SlH71K",
      "include_colab_link": true
    },
    "kernelspec": {
      "name": "python3",
      "display_name": "Python 3"
    }
  },
  "cells": [
    {
      "cell_type": "markdown",
      "metadata": {
        "id": "view-in-github",
        "colab_type": "text"
      },
      "source": [
        "<a href=\"https://colab.research.google.com/github/Tanveer87/CSE_309_025/blob/master/CSE_310_A1_A2_labtest_solve_MID.ipynb\" target=\"_parent\"><img src=\"https://colab.research.google.com/assets/colab-badge.svg\" alt=\"Open In Colab\"/></a>"
      ]
    },
    {
      "cell_type": "markdown",
      "metadata": {
        "id": "5N5hinHdw895",
        "colab_type": "text"
      },
      "source": [
        "LAB TEXT 1\n",
        "\n",
        "Write a python program to calculate compound interest.\t\t\t\t[5]"
      ]
    },
    {
      "cell_type": "code",
      "metadata": {
        "id": "Q4rQxwQ5wytj",
        "colab_type": "code",
        "colab": {}
      },
      "source": [
        "P = float (input(\"Principle(amount):\"))\n",
        "T = float (input(\"Time:\"))\n",
        "R = float (input(\"Rate:\"))\n",
        "\n",
        "result =float (P*(1+R/100)**T)\n",
        "print(\"Compound Interest=\",result)"
      ],
      "execution_count": null,
      "outputs": []
    },
    {
      "cell_type": "markdown",
      "metadata": {
        "id": "-wtTeqdLxIEW",
        "colab_type": "text"
      },
      "source": [
        "Write a python program to calculate the surface area and volume of a cylinder. [10]\n",
        "\n"
      ]
    },
    {
      "cell_type": "code",
      "metadata": {
        "id": "XsY17KBkxLN4",
        "colab_type": "code",
        "colab": {}
      },
      "source": [
        "radious = float (input(\"r=\"))\n",
        "height = float (input(\"h=\"))\n",
        "\n",
        "V = 3.1416*(radious**2)*height\n",
        "S = (2*3.1416*(radious**2))+(2*3.1416*radious*height)\n",
        "\n",
        "print(\"Surface area:\",S,\"square units\")\n",
        "print(\"Volume:\",round(V,2),\"cube units\")"
      ],
      "execution_count": null,
      "outputs": []
    },
    {
      "cell_type": "markdown",
      "metadata": {
        "id": "qXDVHlFbxOsn",
        "colab_type": "text"
      },
      "source": [
        "Write a python program to calculate the volume and surface area of Cone.\t[10]\n",
        "Volume:\n"
      ]
    },
    {
      "cell_type": "code",
      "metadata": {
        "id": "aP5AAAzjxRoH",
        "colab_type": "code",
        "colab": {}
      },
      "source": [
        "radious_of_circular_base = float (input(\"radious=\"))\n",
        "height_from_tip_to_base = float (input(\"height=\"))\n",
        "\n",
        "V = 0.33*3.1416*(radious_of_circular_base**2)*height_from_tip_to_base\n",
        "S = (3.1416*radious_of_circular_base*height_from_tip_to_base)+(3.1416*(radious_of_circular_base**2))\n",
        "\n",
        "\n",
        "print(\"Volume:\",round(V,2),\"cube units\")\n",
        "print(\"Surface area:\",round(S,2),\"square units\")"
      ],
      "execution_count": null,
      "outputs": []
    },
    {
      "cell_type": "markdown",
      "metadata": {
        "id": "20ZnPF2dxaP_",
        "colab_type": "text"
      },
      "source": [
        "\n",
        "Write a python program to calculate the volume and surface area of Sphere.\t[5]\n",
        "Volume:\n"
      ]
    },
    {
      "cell_type": "code",
      "metadata": {
        "id": "CY1nzJ0kxdA4",
        "colab_type": "code",
        "colab": {}
      },
      "source": [
        "radious = float (input(\"radious=\"))\n",
        "\n",
        "\n",
        "V = (4/3)*3.1416*(radious**3)\n",
        "S = (4*3.1416*(radious**2))\n",
        "\n",
        "\n",
        "print(\"Volume =\",round(V,2),\"cube units\")\n",
        "print(\"Surface area=\",round(S,2),\"square units\")\n"
      ],
      "execution_count": null,
      "outputs": []
    },
    {
      "cell_type": "markdown",
      "metadata": {
        "id": "vV5SK1RFxl0f",
        "colab_type": "text"
      },
      "source": [
        "**LAB TEXT 2**\n",
        "\n",
        "Write a program to check Leap year.\t\t\t\t\t\t[5]"
      ]
    },
    {
      "cell_type": "code",
      "metadata": {
        "id": "m6YkHAmixoYR",
        "colab_type": "code",
        "colab": {}
      },
      "source": [
        "year = int(input(\"Enter a year: \"))\n",
        "\n",
        "if (year % 400) == 0:\n",
        "  print(\"This year is leap year\")\n",
        "\n",
        "elif (year % 100) == 0:\n",
        "  print(\"This year is  not leap year\")  \n",
        "elif (year % 4) == 0: \n",
        "  print(\"This year is   leap year\")  \n",
        "else:  \n",
        "   print(\"This year is  not leap year\")"
      ],
      "execution_count": null,
      "outputs": []
    },
    {
      "cell_type": "markdown",
      "metadata": {
        "id": "XAITBStexud3",
        "colab_type": "text"
      },
      "source": [
        "Given a string of length 12, divide the string into 4 parts of length 3. Then swap the first part with the last part. Output the final string. \t\t\t\t[5]\n",
        "\n",
        "Example:\n",
        "Given String: “ABCDEFGHIJKL”\n"
      ]
    },
    {
      "cell_type": "code",
      "metadata": {
        "id": "VCRzBjcExzIH",
        "colab_type": "code",
        "colab": {}
      },
      "source": [
        "string_Line = \"ABCDEFGHIJKL\"\n",
        "\n",
        "PART_1=string_Line[0:3]\n",
        "PART_2=string_Line[3:6]\n",
        "PART_3=string_Line[6:9]\n",
        "PART_4=string_Line[9:12]\n",
        "\n",
        "New_string=PART_4+PART_2+PART_3+PART_1\n",
        "print(New_string)"
      ],
      "execution_count": null,
      "outputs": []
    },
    {
      "cell_type": "markdown",
      "metadata": {
        "id": "oAGODqnrx2f_",
        "colab_type": "text"
      },
      "source": [
        "Suppose you are going to start a Django Project with a group of 5 members. Now, you need to store the information (Name, ID, CGPA, Email_Address, and Contact_no) about the group members in some variables. Choose the appropriate data type where one can search a member effectively.\t"
      ]
    },
    {
      "cell_type": "code",
      "metadata": {
        "id": "G4GzKF7qx62w",
        "colab_type": "code",
        "colab": {
          "base_uri": "https://localhost:8080/",
          "height": 105
        },
        "outputId": "17cfe21a-dd40-4ba4-ff4a-2b4ef89f17d8"
      },
      "source": [
        "#we need dictionary data type for search the member effectively \n",
        "Group_member1 = {\n",
        "    \"Name\" : \"Tanveer\",\n",
        "    \"ID\" : \"18101025\",\n",
        "    \"CGPA\" : 3.5,\n",
        "    \"Email_Address\" : \"18101025@uap-bd.edu\",\n",
        "    \"Contact_no\" : \"0185856\"\n",
        "}\n",
        "\n",
        "Group_member2 = {\n",
        "    \"Name\" : \"Mashfee\",\n",
        "    \"ID\" : \"18101018\",\n",
        "    \"CGPA\" : 3.8,\n",
        "    \"Email_Address\" : \"18101018@uap-bd.edu\",\n",
        "    \"Contact_no\" : \"0185854\"\n",
        "}\n",
        "Group_member3 = {\n",
        "    \"Name\" : \"IFty\",\n",
        "    \"ID\" : \"18101014\",\n",
        "    \"CGPA\" : 3.7,\n",
        "    \"Email_Address\" : \"18101014@uap-bd.edu\",\n",
        "    \"Contact_no\" : \"0185825\"\n",
        "}\n",
        "Group_member4 = {\n",
        "    \"Name\" : \"Antik\",\n",
        "    \"ID\" : \"18101012\",\n",
        "    \"CGPA\" : 3.65,\n",
        "    \"Email_Address\" : \"18101012@uap-bd.edu\",\n",
        "    \"Contact_no\" : \"0185836\"\n",
        "}\n",
        "Group_member5 = {\n",
        "    \"Name\" : \"Adnan\",\n",
        "    \"ID\" : \"18101017\",\n",
        "    \"CGPA\" : 3.75,\n",
        "    \"Email_Address\" : \"18101017@uap-bd.edu\",\n",
        "    \"Contact_no\" : \"0185819\"\n",
        "}\n",
        "group_member = {\n",
        "    Group_member1[\"ID\"] : Group_member1,\n",
        "    Group_member2[\"ID\"] : Group_member2,\n",
        "    Group_member3[\"ID\"] : Group_member3,\n",
        "    Group_member4[\"ID\"] : Group_member4,\n",
        "    Group_member5[\"ID\"] : Group_member5\n",
        "}\n",
        "\n",
        "group_member[\"18101025\"]"
      ],
      "execution_count": 9,
      "outputs": [
        {
          "output_type": "execute_result",
          "data": {
            "text/plain": [
              "{'CGPA': 3.5,\n",
              " 'Contact_no': '0185856',\n",
              " 'Email_Address': '18101025@uap-bd.edu',\n",
              " 'ID': '18101025',\n",
              " 'Name': 'Tanveer'}"
            ]
          },
          "metadata": {
            "tags": []
          },
          "execution_count": 9
        }
      ]
    },
    {
      "cell_type": "markdown",
      "metadata": {
        "id": "CmkNJZP_yFUf",
        "colab_type": "text"
      },
      "source": [
        "Choose variables of appropriate data type to store the information of the following table in a way that if someone inputs the EmployeeID, it will show all the information of that Employee.\t\t\t\t\t\t[5]"
      ]
    },
    {
      "cell_type": "code",
      "metadata": {
        "id": "z3yedQp0ym5X",
        "colab_type": "code",
        "colab": {
          "base_uri": "https://localhost:8080/",
          "height": 105
        },
        "outputId": "534e90f0-9714-47d1-9194-0247cec9d8d5"
      },
      "source": [
        "Employee1 = {\n",
        "    \"EmployeeID\" : 1001,\n",
        "    \"Ename\" : \"John\",\n",
        "    \"DeptID\" : 2,\n",
        "    \"Salary\" : 4000,\n",
        "    \"Dname\" : \"IT\",\n",
        "    \"Dlocation\" : \"New Delhi\"\n",
        "}\n",
        "Employee2 = {\n",
        "    \"EmployeeID\" : 1002,\n",
        "    \"Ename\" : \"Anna\",\n",
        "    \"DeptID\" : 1,\n",
        "    \"Salary\" : 3500,\n",
        "    \"Dname\" : \"HR\",\n",
        "    \"Dlocation\" : \"Mumbai\"\n",
        "}\n",
        "Employee3 = {\n",
        "    \"EmployeeID\" : 1003,\n",
        "    \"Ename\" : \"James\",\n",
        "    \"DeptID\" : 1,\n",
        "    \"Salary\" : 2500,\n",
        "    \"Dname\" : \"HR\",\n",
        "    \"Dlocation\" : \"Mumbai\"\n",
        "}\n",
        "Employee4 = {\n",
        "    \"EmployeeID\" : 1004,\n",
        "    \"Ename\" : \"David\",\n",
        "    \"DeptID\" : 2,\n",
        "    \"Salary\" : 5000,\n",
        "    \"Dname\" : \"IT\",\n",
        "    \"Dlocation\" : \"New Delhi\"\n",
        "}\n",
        "all_Employee = {\n",
        "    Employee1[\"EmployeeID\"] : Employee1,\n",
        "    Employee2[\"EmployeeID\"] : Employee2,\n",
        "    Employee3[\"EmployeeID\"] : Employee3,\n",
        "    Employee4[\"EmployeeID\"] : Employee4\n",
        "\n",
        "}\n",
        "print(\"NAME :\",all_Employee[1002][\"Ename\"])\n",
        "print(\"DEPARTMENT ID :\",all_Employee[1002][\"DeptID\"])\n",
        "print(\"SALARY :\",all_Employee[1002][\"Salary\"])\n",
        "print(\"DEPARTMENT NAME :\",all_Employee[1002][\"Dname\"])\n",
        "print(\"LOCATION :\",all_Employee[1002][\"Dlocation\"])"
      ],
      "execution_count": 13,
      "outputs": [
        {
          "output_type": "stream",
          "text": [
            "NAME : Anna\n",
            "DEPARTMENT ID : 1\n",
            "SALARY : 3500\n",
            "DEPARTMENT NAME : HR\n",
            "LOCATION : Mumbai\n"
          ],
          "name": "stdout"
        }
      ]
    },
    {
      "cell_type": "markdown",
      "metadata": {
        "id": "DQyOvvYNyvLC",
        "colab_type": "text"
      },
      "source": [
        "**LAB TEST 3**\n",
        "\n",
        "Sum the following series using for loop:\n",
        "1 + 4 + 9 + 16 + ….. + Up to n-th term= ? (Hint: square series)\t\t[4]\n"
      ]
    },
    {
      "cell_type": "code",
      "metadata": {
        "id": "081ELQOGzKUB",
        "colab_type": "code",
        "colab": {
          "base_uri": "https://localhost:8080/",
          "height": 52
        },
        "outputId": "a96e29d8-a6cc-47a6-b592-69c1e8316ed2"
      },
      "source": [
        "n= int(input(\"number: \"))\n",
        "\n",
        "sum = 0\n",
        "for i in range(1,n+1) :\n",
        "  \n",
        "  sum = sum + (i * i)\n",
        "print(sum) "
      ],
      "execution_count": 14,
      "outputs": [
        {
          "output_type": "stream",
          "text": [
            "number: 11\n",
            "506\n"
          ],
          "name": "stdout"
        }
      ]
    },
    {
      "cell_type": "markdown",
      "metadata": {
        "id": "foC9V82IzWmP",
        "colab_type": "text"
      },
      "source": [
        "You have a list of students. Each student’s information is stored using a dictionary. \n",
        "\n",
        "\n",
        "Now write a python program to search a student by his/her ID. Use a loop and conditional (or only conditional) so that this can also work on a big list of students. \n"
      ]
    },
    {
      "cell_type": "code",
      "metadata": {
        "id": "i9VTYZx6zc2_",
        "colab_type": "code",
        "colab": {
          "base_uri": "https://localhost:8080/",
          "height": 52
        },
        "outputId": "74eff984-c017-479b-a708-71b9cbdd0716"
      },
      "source": [
        "student1 = {\n",
        "    \"stduent_id\" : 1,\n",
        "    \"Iname\" : \"Salrad\",\n",
        "    \"fname\" : \"jean\",\n",
        "    \"age\" : 19\n",
        "}\n",
        "student2 = {\n",
        "    \"stduent_id\" : 2,\n",
        "    \"Iname\" : \"Le Bert\",\n",
        "    \"fname\" : \"Antonie\",\n",
        "    \"age\" : 24\n",
        "}\n",
        "student3 = {\n",
        "    \"stduent_id\" : 3,\n",
        "    \"Iname\" : \"Legendre\",\n",
        "    \"fname\" : \"Pierre\",\n",
        "    \"age\" : 23\n",
        "}\n",
        "student4 = {\n",
        "    \"stduent_id\" : 4,\n",
        "    \"Iname\" : \"Turcotte\",\n",
        "    \"fname\" : \"cedric\",\n",
        "    \"age\" : 24\n",
        "}\n",
        "student5 = {\n",
        "    \"stduent_id\" : 5,\n",
        "    \"Iname\" : \"Trembly\",\n",
        "    \"fname\" : \"Alfredo\",\n",
        "    \"age\" : 22\n",
        "}\n",
        "\n",
        "student = {\n",
        "    student1[\"stduent_id\"] : student1,\n",
        "    student2[\"stduent_id\"] : student2,\n",
        "    student3[\"stduent_id\"] : student3,\n",
        "    student4[\"stduent_id\"] : student4,\n",
        "    student5[\"stduent_id\"] : student5\n",
        "\n",
        "}\n",
        "\n",
        "l = [student1,student2,student3,student4,student5]\n",
        "student_id = int(input(\"Student ID :\"))\n",
        "\n",
        "\n",
        "for student in l:\n",
        "  if student[\"stduent_id\"] == student_id:\n",
        "    print(student)"
      ],
      "execution_count": 22,
      "outputs": [
        {
          "output_type": "stream",
          "text": [
            "Student ID :5\n",
            "{'stduent_id': 5, 'Iname': 'Trembly', 'fname': 'Alfredo', 'age': 22}\n"
          ],
          "name": "stdout"
        }
      ]
    },
    {
      "cell_type": "markdown",
      "metadata": {
        "id": "AnK1ODDlzjyn",
        "colab_type": "text"
      },
      "source": [
        "**LAB TEST 4**\n",
        "\n",
        " Write a python class for calculating the motion of a moving object by using the following equations\t\t\t\t\t\t\t\t\t\t\t[6]\n"
      ]
    },
    {
      "cell_type": "code",
      "metadata": {
        "id": "Comm7n3Xz5YQ",
        "colab_type": "code",
        "colab": {}
      },
      "source": [
        "import math as p\n",
        "class PhysicsFormula:\n",
        "\n",
        "  def formula1(self,u,a,t):\n",
        "    self.v=u+a*t\n",
        "    print(self.v)\n",
        "\n",
        "  def formula2(self,u,t,a):\n",
        "    self.s=u*t+0.5*a*(t**2)\n",
        "    print(self.s)\n",
        "\n",
        "  def formula3(self,u,v,t):\n",
        "    self.s=0.5*(u+v)*t\n",
        "    print(self.s)\n",
        "\n",
        "  def formula4(self,u,a,s):\n",
        "    self.v=p.sqrt(u*u+2*a*s)\n",
        "    print(self.v)"
      ],
      "execution_count": null,
      "outputs": []
    },
    {
      "cell_type": "markdown",
      "metadata": {
        "id": "y_TYq-Srz-W_",
        "colab_type": "text"
      },
      "source": [
        "Write a Credit Card class in python. A user can cash out (debit) money or pay shopping bills from his/her own card based on availability or limit. Initially,  a credit card holder gets 100000 taka limit. The user has to pay back to the credit card bank.\t\t[12]\n",
        "\n",
        "Moreover, the account stores the following information\t\t\t\t\t\t\n",
        "\tInstance variables: (information should be provided at the time of account creation)\n",
        "       ** a**.Name of the credit card holder\n",
        "       ** b**.Credit card number\n",
        "       ** c**.Current Balance\n",
        "        **d.**Max limit\n",
        "**\tMethods:**\n",
        "        a.Deposit \n",
        "        b.Debit\n",
        "        c.Show current balance\n",
        "        d.Pay bill\n"
      ]
    },
    {
      "cell_type": "code",
      "metadata": {
        "id": "afaEou1l0Q0G",
        "colab_type": "code",
        "colab": {}
      },
      "source": [
        "class CreditCard:\n",
        "\n",
        "  def __init__(self,Card_holder_Name,C_No,C_balance,Max_limit):\n",
        "\n",
        "    self.Card_holder_Name= Card_holder_Name\n",
        "    self.C_No = C_No\n",
        "    self.C_balance= C_balance\n",
        "    self.Max_limit= Max_limit\n",
        "\n",
        "  def Deposite(self,deposite):\n",
        "    self.C_balance = self.C_balance+deposite\n",
        "   \n",
        "  def Debit(self,pay_money):\n",
        "    if (self.C_balance>=pay_money):\n",
        "      self.C_balance = self.C_balance - pay_money\n",
        "      \n",
        "  def show_C_balance(self):\n",
        "    print(self.C_balance)\n",
        "\n",
        "  def Pay_Bill(self,back_money):\n",
        "    self.C_balance = self.C_balance+back_money\n",
        "    print(self.C_balance)"
      ],
      "execution_count": 34,
      "outputs": []
    },
    {
      "cell_type": "code",
      "metadata": {
        "id": "R3wSBi2UFdG5",
        "colab_type": "code",
        "colab": {}
      },
      "source": [
        "customer = CreditCard(\"Roton\",\"181002\",60000,100000)"
      ],
      "execution_count": 35,
      "outputs": []
    },
    {
      "cell_type": "code",
      "metadata": {
        "id": "ngX3_gHTFgn8",
        "colab_type": "code",
        "colab": {
          "base_uri": "https://localhost:8080/",
          "height": 34
        },
        "outputId": "9f2a5f32-0314-41c8-e3f2-409c4d761d16"
      },
      "source": [
        "customer.show_C_balance()"
      ],
      "execution_count": 36,
      "outputs": [
        {
          "output_type": "stream",
          "text": [
            "60000\n"
          ],
          "name": "stdout"
        }
      ]
    },
    {
      "cell_type": "code",
      "metadata": {
        "id": "DtQj6NvAFh7N",
        "colab_type": "code",
        "colab": {}
      },
      "source": [
        "customer.Deposite(10000)"
      ],
      "execution_count": 37,
      "outputs": []
    },
    {
      "cell_type": "code",
      "metadata": {
        "id": "h0-CwyXbFmD8",
        "colab_type": "code",
        "colab": {
          "base_uri": "https://localhost:8080/",
          "height": 34
        },
        "outputId": "8a5bf002-20f9-4341-db13-4ff7ae378c18"
      },
      "source": [
        "customer.show_C_balance()"
      ],
      "execution_count": 38,
      "outputs": [
        {
          "output_type": "stream",
          "text": [
            "70000\n"
          ],
          "name": "stdout"
        }
      ]
    },
    {
      "cell_type": "code",
      "metadata": {
        "id": "XHQ6cvyWFqwD",
        "colab_type": "code",
        "colab": {}
      },
      "source": [
        "customer.Debit(70000)"
      ],
      "execution_count": 39,
      "outputs": []
    },
    {
      "cell_type": "code",
      "metadata": {
        "id": "R9TSb2xgFu3M",
        "colab_type": "code",
        "colab": {
          "base_uri": "https://localhost:8080/",
          "height": 34
        },
        "outputId": "77aa35f2-9242-4cce-c48a-08fda83d1228"
      },
      "source": [
        "customer.show_C_balance()"
      ],
      "execution_count": 40,
      "outputs": [
        {
          "output_type": "stream",
          "text": [
            "0\n"
          ],
          "name": "stdout"
        }
      ]
    },
    {
      "cell_type": "code",
      "metadata": {
        "id": "niJxP1DgFwez",
        "colab_type": "code",
        "colab": {
          "base_uri": "https://localhost:8080/",
          "height": 34
        },
        "outputId": "b600875e-7775-46dc-948e-7a072090d576"
      },
      "source": [
        "customer. Pay_Bill(90000)"
      ],
      "execution_count": 41,
      "outputs": [
        {
          "output_type": "stream",
          "text": [
            "90000\n"
          ],
          "name": "stdout"
        }
      ]
    },
    {
      "cell_type": "code",
      "metadata": {
        "id": "FmEFTm8rF2k0",
        "colab_type": "code",
        "colab": {
          "base_uri": "https://localhost:8080/",
          "height": 34
        },
        "outputId": "03e3b04e-ea72-40a5-aeb4-015edd59cfba"
      },
      "source": [
        "customer.show_C_balance()"
      ],
      "execution_count": 42,
      "outputs": [
        {
          "output_type": "stream",
          "text": [
            "90000\n"
          ],
          "name": "stdout"
        }
      ]
    },
    {
      "cell_type": "markdown",
      "metadata": {
        "id": "0OIp35GJ0cz2",
        "colab_type": "text"
      },
      "source": [
        "**A2  LAB TEST 1**\n",
        "\n",
        "\n",
        "Calculate compound interest"
      ]
    },
    {
      "cell_type": "code",
      "metadata": {
        "id": "QGWqLrRi1-_2",
        "colab_type": "code",
        "colab": {
          "base_uri": "https://localhost:8080/",
          "height": 87
        },
        "outputId": "d9aae688-c978-4f30-c5d6-f81513e300b4"
      },
      "source": [
        "p=int(input(' Principle (amount): '))\n",
        "t=int(input('Time (in years) : '))\n",
        "r=float(input(' Rate: '))\n",
        "x=1+(r/100)\n",
        "y=x**t\n",
        "result=p*y\n",
        "print('Compound Interest = ',round(result,6))"
      ],
      "execution_count": 43,
      "outputs": [
        {
          "output_type": "stream",
          "text": [
            " Principle (amount): 1250\n",
            "Time (in years) : 5\n",
            " Rate: 5\n",
            "Compound Interest =  1595.351953\n"
          ],
          "name": "stdout"
        }
      ]
    },
    {
      "cell_type": "markdown",
      "metadata": {
        "id": "Ns-gzycb2Hf9",
        "colab_type": "text"
      },
      "source": [
        "proble 2\n"
      ]
    },
    {
      "cell_type": "code",
      "metadata": {
        "id": "2U2PMOGm2NqQ",
        "colab_type": "code",
        "colab": {
          "base_uri": "https://localhost:8080/",
          "height": 52
        },
        "outputId": "9bc28766-093e-4011-d4dc-4270e3608deb"
      },
      "source": [
        "r=int(input('r='))\n",
        "result=r*3.1416*2\n",
        "print('Perimeter:',round(result,2))"
      ],
      "execution_count": 46,
      "outputs": [
        {
          "output_type": "stream",
          "text": [
            "r=5\n",
            "Perimeter: 31.42\n"
          ],
          "name": "stdout"
        }
      ]
    },
    {
      "cell_type": "markdown",
      "metadata": {
        "id": "4WSnSnhO2USG",
        "colab_type": "text"
      },
      "source": [
        "problem 3"
      ]
    },
    {
      "cell_type": "code",
      "metadata": {
        "id": "cAa3XhKw2Vx9",
        "colab_type": "code",
        "colab": {
          "base_uri": "https://localhost:8080/",
          "height": 87
        },
        "outputId": "a49e5949-56bd-4206-9780-9feb37db5754"
      },
      "source": [
        "r=int(input('r'))\n",
        "h=int(input('h'))\n",
        "vol=3.1416*r**2*h\n",
        "area=(2*3.1416*r**2)+(2*3.1416*r*h)\n",
        "print('Surface area:',round(area,2),'square units')\n",
        "print('Volume:',round(vol,2),'cube units')"
      ],
      "execution_count": 47,
      "outputs": [
        {
          "output_type": "stream",
          "text": [
            "r5\n",
            "h8\n",
            "Surface area: 408.41 square units\n",
            "Volume: 628.32 cube units\n"
          ],
          "name": "stdout"
        }
      ]
    },
    {
      "cell_type": "markdown",
      "metadata": {
        "id": "E7nGncOH2aDo",
        "colab_type": "text"
      },
      "source": [
        "**A2 LAB TEST 2**\n",
        "\n",
        "Write a python code to determine odd or even."
      ]
    },
    {
      "cell_type": "code",
      "metadata": {
        "id": "wxgByT8N2g_o",
        "colab_type": "code",
        "colab": {
          "base_uri": "https://localhost:8080/",
          "height": 52
        },
        "outputId": "6971f94f-c981-4b91-b73f-9f73a4fd03d2"
      },
      "source": [
        "x=int(input(\"Enter a number to check even/odd: \"))\n",
        "if x%2==0:\n",
        "  print(\"Even Number\")\n",
        "else:\n",
        "  print(\"Odd Number\")"
      ],
      "execution_count": 48,
      "outputs": [
        {
          "output_type": "stream",
          "text": [
            "Enter a number to check even/odd: 21\n",
            "Odd Number\n"
          ],
          "name": "stdout"
        }
      ]
    },
    {
      "cell_type": "markdown",
      "metadata": {
        "id": "Uc0yCvWe2jIW",
        "colab_type": "text"
      },
      "source": [
        "Write a python program to calculate the letter grade of an H.S.C exam. The exam mark will be given as input"
      ]
    },
    {
      "cell_type": "code",
      "metadata": {
        "id": "iRnbOWe52nVI",
        "colab_type": "code",
        "colab": {
          "base_uri": "https://localhost:8080/",
          "height": 52
        },
        "outputId": "631d5558-0ea2-407e-997c-73959bb13e97"
      },
      "source": [
        "x=float(input(\"Enter a number to check your grade: \"))\n",
        "if x>=80.0:\n",
        "  print(\"A+\")\n",
        "elif x>=70.0 and x<80:\n",
        "  print(\"A\")\n",
        "elif x>=60 and x<70:\n",
        "  print(\"A-\")\n",
        "elif x>=50.0 and x<60:\n",
        "  print(\"B\")\n",
        "elif x>=40.0 and x<50:\n",
        "  print(\"C\")\n",
        "elif x>=33.0 and x<40:\n",
        "  print(\"D\")\n",
        "else:\n",
        " print(\"F\")"
      ],
      "execution_count": 51,
      "outputs": [
        {
          "output_type": "stream",
          "text": [
            "Enter a number to check your grade: 31\n",
            "F\n"
          ],
          "name": "stdout"
        }
      ]
    },
    {
      "cell_type": "markdown",
      "metadata": {
        "id": "hyavIb-22s_3",
        "colab_type": "text"
      },
      "source": [
        "Given a string of length 12, divide the string into 4 parts of length 3. Then swap the first part with the last part. Output the final string.\n",
        "\n",
        "\n"
      ]
    },
    {
      "cell_type": "code",
      "metadata": {
        "id": "CGGqg85e3Avn",
        "colab_type": "code",
        "colab": {
          "base_uri": "https://localhost:8080/",
          "height": 52
        },
        "outputId": "4634263e-a286-4ead-bae5-a62df4b04f4d"
      },
      "source": [
        "x=input(\"Enter a 12 length string: \")\n",
        "x1=x[0:3]\n",
        "x2=x[3:6]\n",
        "x3=x[6:9]\n",
        "x4=x[9:12]\n",
        "y=x4+x2+x3+x1\n",
        "print(\"Output: \",y)"
      ],
      "execution_count": 52,
      "outputs": [
        {
          "output_type": "stream",
          "text": [
            "Enter a 12 length string: tanveeraghgf\n",
            "Output:  hgfveeragtan\n"
          ],
          "name": "stdout"
        }
      ]
    },
    {
      "cell_type": "markdown",
      "metadata": {
        "id": "_BQa7Lqb3EWO",
        "colab_type": "text"
      },
      "source": [
        "Choose variables of appropriate data type to store the information of the following table in a way that if someone inputs the ID, it will show all the information of that student"
      ]
    },
    {
      "cell_type": "code",
      "metadata": {
        "id": "0nJSIFSK3Gs2",
        "colab_type": "code",
        "colab": {
          "base_uri": "https://localhost:8080/",
          "height": 52
        },
        "outputId": "af377bb5-8c15-47cf-96e6-3cadf5ec5c16"
      },
      "source": [
        "y=int(input(\"Enter id: \"))\n",
        "d1={\n",
        "    \"ID\":\"1\",\n",
        "   \"First name\":\"Peter\",\n",
        "   \"Last name\":\"Lee\",\n",
        "   \"Email\":\"pele@university.edu\",\n",
        "   \"Year of birth\":\"1992\"\n",
        "\n",
        "\n",
        "}\n",
        "d2={\n",
        "    \"ID\":\"2\",\n",
        "   \"First name\":\"Jonatham\",\n",
        "   \"Last name\":\"Edwards\",\n",
        "   \"Email\":\"jedwards@university.edu\",\n",
        "   \"Year of birth\":\"1994\"\n",
        "\n",
        "\n",
        "}\n",
        "d3={\n",
        "    \"ID\":\"3\",\n",
        "   \"First name\":\"Marylin\",\n",
        "   \"Last name\":\"Johnsan\",\n",
        "   \"Email\":\"mjohnson@university.edu\",\n",
        "   \"Year of birth\":\"1993\"\n",
        "\n",
        "\n",
        "}\n",
        "d4={\n",
        "    \"ID\":\"6\",\n",
        "   \"First name\":\"Joe\",\n",
        "   \"Last name\":\"Kim\",\n",
        "   \"Email\":\"jkim@university.edu\",\n",
        "   \"Year of birth\":\"1992\"\n",
        "\n",
        "\n",
        "}\n",
        "d5={\n",
        "    \"ID\":\"12\",\n",
        "   \"First name\":\"Haley\",\n",
        "   \"Last name\":\"Martinez\",\n",
        "   \"Email\":\"hmartinez@university.edu\",\n",
        "   \"Year of birth\":\"1993\"\n",
        "\n",
        "\n",
        "}\n",
        "dictionary={\n",
        "    1:d1,\n",
        "   2:d2,\n",
        "   3:d3,\n",
        "   6:d4,\n",
        "   12:d5\n",
        "}\n",
        "\n",
        "print(dictionary[y])"
      ],
      "execution_count": 53,
      "outputs": [
        {
          "output_type": "stream",
          "text": [
            "Enter id: 12\n",
            "{'ID': '12', 'First name': 'Haley', 'Last name': 'Martinez', 'Email': 'hmartinez@university.edu', 'Year of birth': '1993'}\n"
          ],
          "name": "stdout"
        }
      ]
    },
    {
      "cell_type": "markdown",
      "metadata": {
        "id": "61RlcGa83Kwu",
        "colab_type": "text"
      },
      "source": [
        "**A2 LAB TEST 3**\n",
        "\n",
        "problem 1"
      ]
    },
    {
      "cell_type": "code",
      "metadata": {
        "id": "brvEBHUc3YJ3",
        "colab_type": "code",
        "colab": {
          "base_uri": "https://localhost:8080/",
          "height": 52
        },
        "outputId": "c1a87411-723f-4ff5-9ec9-e1e3ed40696b"
      },
      "source": [
        "d1={\n",
        "    \"ID\":\"1\",\n",
        "    \"First name\":\"Peter\",\n",
        "    \"Last name\":\"Lee\",\n",
        "    \"Email\":\"plee@university.edu\",\n",
        "    \"Year Of Birth\":\"1992\"\n",
        "}\n",
        "d2={\n",
        "    \"ID\":\"2\",\n",
        "    \"First name\":\"Jonathan\",\n",
        "    \"Last name\":\"Edwars\",\n",
        "    \"Email\":\"jedwards@university.edu\",\n",
        "    \"Year Of Birth\":\"1994\"\n",
        "}\n",
        "d3={\n",
        "    \"ID\":\"3\",\n",
        "    \"First name\":\"Marylin\",\n",
        "    \"Last name\":\"Jhonson\",\n",
        "    \"Email\":\"mjhonson@university.edu\",\n",
        "    \"Year Of Birth\":\"1993\"\n",
        "}\n",
        "d4={\n",
        "    \"ID\":\"6\",\n",
        "    \"First name\":\"Joe\",\n",
        "    \"Last name\":\"Kim\",\n",
        "    \"Email\":\"jkim@university.edu\",\n",
        "    \"Year Of Birth\":\"1992\"\n",
        "}\n",
        "\n",
        "l = [d1, d2, d3, d4]\n",
        "\n",
        "x=input(\"Enter student id: \")\n",
        "flag=0\n",
        "for i in l:\n",
        "  if i[\"ID\"] == x :\n",
        "    print(i)\n",
        "    flag=1\n",
        "if flag==1:\n",
        "  pass\n",
        "else:\n",
        "  print(\"Id is not registered.\")   "
      ],
      "execution_count": 55,
      "outputs": [
        {
          "output_type": "stream",
          "text": [
            "Enter student id: 6\n",
            "{'ID': '6', 'First name': 'Joe', 'Last name': 'Kim', 'Email': 'jkim@university.edu', 'Year Of Birth': '1992'}\n"
          ],
          "name": "stdout"
        }
      ]
    },
    {
      "cell_type": "markdown",
      "metadata": {
        "id": "nvqCxnEo3adG",
        "colab_type": "text"
      },
      "source": [
        "**A2 LAB TEST 4**\n",
        "\n",
        "problem 1"
      ]
    },
    {
      "cell_type": "code",
      "metadata": {
        "id": "Peh9r5L03qeW",
        "colab_type": "code",
        "colab": {}
      },
      "source": [
        "import math as m\n",
        "class calculator:\n",
        "  a=0.0\n",
        "  b=0.0\n",
        "  c=0.0\n",
        "  def plus(self,a,b):\n",
        "    self.c=a+b\n",
        "    print(self.c)\n",
        "  \n",
        "  def minious(self,a,b):\n",
        "    self.c=a-b\n",
        "    print(self.c)\n",
        "    \n",
        "  def multiply(self,a,b):\n",
        "    self.c=a*b\n",
        "    print(self.c)\n",
        "\n",
        "  def divide(self,a,b):\n",
        "    self.c=a/b\n",
        "    print(self.c)\n",
        "\n",
        "  def squrt(self,a):\n",
        "    self.c=m.sqrt(a)\n",
        "    print(self.c)\n",
        "\n",
        "  def round(self,a):\n",
        "    self.c=m.round(a)\n",
        "    print(self.c)\n",
        "\n",
        "  def power(self,a,b):\n",
        "    self.c=m.pow(a,b)\n",
        "    print(self.c)\n",
        "\n",
        "  def log(self,a,base):\n",
        "    self.c=m.log(a,base)\n",
        "    print(self.c)\n",
        "\n",
        "  def sin(self,angle):\n",
        "    a=m.degrees(angle)\n",
        "    self.c=m.sin(a)\n",
        "    print(self.c)\n",
        "\n",
        "  def cos(self,angle):\n",
        "    a=m.degrees(angle)\n",
        "    self.c= m.cos(a)\n",
        "    print(self.c)\n",
        "\n",
        "  def tan(self,angle):\n",
        "    a=m.degrees(angle)\n",
        "    self.c=m.tan(a)\n",
        "    print(self.c)\n",
        "\n",
        "  def factorial(self,a):\n",
        "    self.c=m.factorial(a)\n",
        "    print(self.c)\n",
        "\n",
        "  def mod(self,a,b):\n",
        "    self.c=a%b\n",
        "    print(self.c)\n",
        "\n",
        "  def percentage(self,a,b):\n",
        "    self.c=(b*100)/a\n",
        "    print(self.c)\n",
        "    \n",
        "  def ans(self):\n",
        "    print(self.c)"
      ],
      "execution_count": 57,
      "outputs": []
    },
    {
      "cell_type": "code",
      "metadata": {
        "id": "eMRhQ7oHLQ81",
        "colab_type": "code",
        "colab": {}
      },
      "source": [
        "a=calculator()"
      ],
      "execution_count": 58,
      "outputs": []
    },
    {
      "cell_type": "code",
      "metadata": {
        "id": "6Z-LZqLCLUNL",
        "colab_type": "code",
        "colab": {
          "base_uri": "https://localhost:8080/",
          "height": 34
        },
        "outputId": "dcdf4e17-693c-45bd-fa7d-8f1823b8b857"
      },
      "source": [
        "a.plus(10,5)"
      ],
      "execution_count": 59,
      "outputs": [
        {
          "output_type": "stream",
          "text": [
            "15\n"
          ],
          "name": "stdout"
        }
      ]
    },
    {
      "cell_type": "code",
      "metadata": {
        "id": "cPsLMC5PLYpC",
        "colab_type": "code",
        "colab": {
          "base_uri": "https://localhost:8080/",
          "height": 34
        },
        "outputId": "c25011cc-52fc-4efa-d6e7-357bd5941e9e"
      },
      "source": [
        "a.sin(60)"
      ],
      "execution_count": 60,
      "outputs": [
        {
          "output_type": "stream",
          "text": [
            "0.7475778912844228\n"
          ],
          "name": "stdout"
        }
      ]
    },
    {
      "cell_type": "markdown",
      "metadata": {
        "id": "OLOBCkdi3rLe",
        "colab_type": "text"
      },
      "source": [
        "problem 2"
      ]
    },
    {
      "cell_type": "code",
      "metadata": {
        "id": "QLlXnf9c3shm",
        "colab_type": "code",
        "colab": {}
      },
      "source": [
        "class student:\n",
        "  name=\"\"\n",
        "  id=0\n",
        "  semester=\"\"\n",
        "  email=\"\"\n",
        "  cgpa=0.0\n",
        "  credit_complete=0.0\n",
        "\n",
        "  def __init__(self,name,id,semester,email):\n",
        "    self.name=name\n",
        "    self.id=id\n",
        "    self.semester=semester\n",
        "    self.email=email\n",
        "\n",
        "  def show_data(self):\n",
        "    print(\" NAme :\",self.name,\"\\n\",\"ID :\",self.id,\"\\n\",\"Semester :\",self.semester,\"\\n\",\"E-mail :\",self.email,\"\\n\",\"CGPA :\",self.cgpa,\"\\n\",\"Complete credit :\",self.credit_complete,\"\\n\")\n",
        "  \n",
        "  def update_semester(self,semester):\n",
        "    self.semester=semester\n",
        "  \n",
        "  def update_cgpa(self,cgpa):\n",
        "    self.cgpa=cgpa\n",
        "  \n",
        "  def upadte_completed_credit(self,credit):\n",
        "    self.credit_complete=credit"
      ],
      "execution_count": 68,
      "outputs": []
    },
    {
      "cell_type": "code",
      "metadata": {
        "id": "Y8G6Uwsi33kF",
        "colab_type": "code",
        "colab": {}
      },
      "source": [
        "a=student(\"Tanveer\",1,\"3-1\",\"18101025@uap-bd.edu\")"
      ],
      "execution_count": 69,
      "outputs": []
    },
    {
      "cell_type": "code",
      "metadata": {
        "id": "jank7weg4IBg",
        "colab_type": "code",
        "colab": {}
      },
      "source": [
        "a.upadte_completed_credit(98.5)"
      ],
      "execution_count": 70,
      "outputs": []
    },
    {
      "cell_type": "code",
      "metadata": {
        "id": "Y6pQsHdF4MCu",
        "colab_type": "code",
        "colab": {
          "base_uri": "https://localhost:8080/",
          "height": 141
        },
        "outputId": "81b7bfd1-ca98-4340-8093-5ca47bbcc528"
      },
      "source": [
        "a.show_data()"
      ],
      "execution_count": 71,
      "outputs": [
        {
          "output_type": "stream",
          "text": [
            " NAme : Tanveer \n",
            " ID : 1 \n",
            " Semester : 3-1 \n",
            " E-mail : 18101025@uap-bd.edu \n",
            " CGPA : 0.0 \n",
            " Complete credit : 98.5 \n",
            "\n"
          ],
          "name": "stdout"
        }
      ]
    },
    {
      "cell_type": "code",
      "metadata": {
        "id": "9KrPLAQ0Mwl6",
        "colab_type": "code",
        "colab": {}
      },
      "source": [
        "a.update_cgpa(3.20)"
      ],
      "execution_count": 72,
      "outputs": []
    },
    {
      "cell_type": "code",
      "metadata": {
        "id": "A19IZ8q5M4Bh",
        "colab_type": "code",
        "colab": {
          "base_uri": "https://localhost:8080/",
          "height": 141
        },
        "outputId": "cb030d54-323f-4dcd-fecf-83efd07bff8c"
      },
      "source": [
        "a.show_data()"
      ],
      "execution_count": 73,
      "outputs": [
        {
          "output_type": "stream",
          "text": [
            " NAme : Tanveer \n",
            " ID : 1 \n",
            " Semester : 3-1 \n",
            " E-mail : 18101025@uap-bd.edu \n",
            " CGPA : 3.2 \n",
            " Complete credit : 98.5 \n",
            "\n"
          ],
          "name": "stdout"
        }
      ]
    },
    {
      "cell_type": "markdown",
      "metadata": {
        "id": "B918cK-b4VfO",
        "colab_type": "text"
      },
      "source": [
        "problem : Prime_number_in_a_given_range (mid spring 3(a))"
      ]
    },
    {
      "cell_type": "code",
      "metadata": {
        "id": "t2umGRGlToWs",
        "colab_type": "code",
        "colab": {
          "base_uri": "https://localhost:8080/",
          "height": 70
        },
        "outputId": "9956c39b-04ff-44f0-b5dc-9bbeb899a778"
      },
      "source": [
        "def prime_number(a,b):\n",
        "  for num in range(a,b+1):  \n",
        "   if num > 1:  \n",
        "       for i in range(2,num):  \n",
        "           if (num % i) == 0:  \n",
        "               break  \n",
        "       else:  \n",
        "           print(num,end=' ' )\n",
        "           \n",
        "           \n",
        "lower = int(input(\"Enter lower range: \"))  \n",
        "upper = int(input(\"Enter upper range: \"))  \n",
        "prime_number(lower,upper)           \n"
      ],
      "execution_count": 11,
      "outputs": [
        {
          "output_type": "stream",
          "text": [
            "Enter lower range: 1\n",
            "Enter upper range: 10\n",
            "2 3 5 7 "
          ],
          "name": "stdout"
        }
      ]
    },
    {
      "cell_type": "markdown",
      "metadata": {
        "id": "0CvyYbrdZ6j5",
        "colab_type": "text"
      },
      "source": [
        "# ***CLASS CODE TOPIC ***"
      ]
    },
    {
      "cell_type": "markdown",
      "metadata": {
        "id": "9VuaQHtPcDuj",
        "colab_type": "text"
      },
      "source": [
        "**AND OR**"
      ]
    },
    {
      "cell_type": "code",
      "metadata": {
        "id": "csLi9pR4aFGM",
        "colab_type": "code",
        "colab": {}
      },
      "source": [
        "x = int(input())\n",
        "\n",
        "if x>5 and x>100:\n",
        "  print(\"1\")\n",
        "elif x>10 and x>20:\n",
        "  print(\"2\")\n",
        "if x>1 or x>30:\n",
        "  print(\"3\")\n",
        "else:\n",
        "  print(\"4\")"
      ],
      "execution_count": null,
      "outputs": []
    },
    {
      "cell_type": "code",
      "metadata": {
        "id": "-gJSYKVkcN3X",
        "colab_type": "code",
        "colab": {}
      },
      "source": [
        "x = int(input())\n",
        "\n",
        "if x>5 and x>100:\n",
        "  print(\"1\")\n",
        "elif x>10 and x>20:\n",
        "  print(\"2\")\n",
        "if x>1 or x>30:\n",
        "  print(\"3\")\n",
        "else:\n",
        "  print(\"4\")"
      ],
      "execution_count": null,
      "outputs": []
    },
    {
      "cell_type": "code",
      "metadata": {
        "id": "t_1J5EyWcQi-",
        "colab_type": "code",
        "colab": {}
      },
      "source": [
        "# max(a,b,c)\n",
        "a = int(input())\n",
        "b = int(input())\n",
        "c = int(input())\n",
        "\n",
        "if a>b and a>c:\n",
        "  print(a)\n",
        "elif b>a and b>c:\n",
        "  print(b)\n",
        "else:\n",
        "  print(c)"
      ],
      "execution_count": null,
      "outputs": []
    },
    {
      "cell_type": "markdown",
      "metadata": {
        "id": "ShvnSPqCcfq9",
        "colab_type": "text"
      },
      "source": [
        "**NESTED IF**"
      ]
    },
    {
      "cell_type": "code",
      "metadata": {
        "id": "OWdN8AmocTFe",
        "colab_type": "code",
        "colab": {}
      },
      "source": [
        "# max(a, b, c)\n",
        "\n",
        "a = int(input())\n",
        "b = int(input())\n",
        "c = int(input())\n",
        "\n",
        "if a>b :\n",
        "  if a>c :\n",
        "    print(a)\n",
        "elif b>a :\n",
        "  if b>c :\n",
        "    print(b)\n",
        "else:\n",
        "  print(c)"
      ],
      "execution_count": null,
      "outputs": []
    },
    {
      "cell_type": "code",
      "metadata": {
        "id": "YYqFYb4lclJ-",
        "colab_type": "code",
        "colab": {}
      },
      "source": [
        "# max(a, b, c)\n",
        "\n",
        "a = int(input())\n",
        "b = int(input())\n",
        "c = int(input())\n",
        "\n",
        "if a>b :\n",
        "  if a>c :\n",
        "    print(a)\n",
        "  else:\n",
        "    print(c)\n",
        "else: # b>=a\n",
        "  if b>c :\n",
        "    print(b)"
      ],
      "execution_count": null,
      "outputs": []
    },
    {
      "cell_type": "markdown",
      "metadata": {
        "id": "NE0Yl7qEe_je",
        "colab_type": "text"
      },
      "source": [
        "**DICTIONARY**"
      ]
    },
    {
      "cell_type": "code",
      "metadata": {
        "id": "PjHKyz0cfCDN",
        "colab_type": "code",
        "colab": {}
      },
      "source": [
        "# Organization -> 300 employee\n",
        "\n",
        "emp1 = {\n",
        "    \"name\" : \"Efti\",\n",
        "    \"position\" : \"Soft Engineer\",\n",
        "    \"Salary\" : 10,\n",
        "    \"ID\" : 52\n",
        "}\n",
        "\n",
        "emp2 = {\n",
        "    \"name\" : \"Ashfi\",\n",
        "    \"position\" : \"CEO\",\n",
        "    \"Salary\" : 100,\n",
        "    \"ID\" : 520\n",
        "}\n",
        "\n",
        "emp3 = {\n",
        "    \"name\" : \"Rakin\",\n",
        "    \"position\" : \"Manager\",\n",
        "    \"Salary\" : 5,\n",
        "    \"ID\" : 5200\n",
        "}"
      ],
      "execution_count": 12,
      "outputs": []
    },
    {
      "cell_type": "code",
      "metadata": {
        "id": "8NQM3GjFfNIH",
        "colab_type": "code",
        "colab": {}
      },
      "source": [
        "l = [emp1, emp2, emp3]"
      ],
      "execution_count": 13,
      "outputs": []
    },
    {
      "cell_type": "code",
      "metadata": {
        "id": "qpU6iqJgfPwR",
        "colab_type": "code",
        "colab": {
          "base_uri": "https://localhost:8080/",
          "height": 34
        },
        "outputId": "7a5e0d41-9918-400f-f84e-8060d06ce909"
      },
      "source": [
        "l[0]"
      ],
      "execution_count": 14,
      "outputs": [
        {
          "output_type": "execute_result",
          "data": {
            "text/plain": [
              "{'ID': 52, 'Salary': 10, 'name': 'Efti', 'position': 'Soft Engineer'}"
            ]
          },
          "metadata": {
            "tags": []
          },
          "execution_count": 14
        }
      ]
    },
    {
      "cell_type": "code",
      "metadata": {
        "id": "gQfCkmc6fR6H",
        "colab_type": "code",
        "colab": {
          "base_uri": "https://localhost:8080/",
          "height": 34
        },
        "outputId": "499b18a0-af3a-419b-e60f-b826ee898955"
      },
      "source": [
        "# One solution \n",
        "for emp in l:\n",
        "  if emp[\"name\"] == \"Ashfi\":\n",
        "    print(emp)"
      ],
      "execution_count": 15,
      "outputs": [
        {
          "output_type": "stream",
          "text": [
            "{'name': 'Ashfi', 'position': 'CEO', 'Salary': 100, 'ID': 520}\n"
          ],
          "name": "stdout"
        }
      ]
    },
    {
      "cell_type": "code",
      "metadata": {
        "id": "Fvi30Ny3fkub",
        "colab_type": "code",
        "colab": {}
      },
      "source": [
        "# Another solution (more effective but has a problem)\n",
        "all_emp = {\n",
        "    \"Efti\" : emp1,\n",
        "    \"Ashfi\" : emp2,\n",
        "    \"Rakin\" : emp3,\n",
        "}"
      ],
      "execution_count": 17,
      "outputs": []
    },
    {
      "cell_type": "code",
      "metadata": {
        "id": "aBGsTkjJfzaV",
        "colab_type": "code",
        "colab": {
          "base_uri": "https://localhost:8080/",
          "height": 34
        },
        "outputId": "9c1732e4-4dea-4881-fa9f-53b91cfcb80a"
      },
      "source": [
        "all_emp[\"Rakin\"]"
      ],
      "execution_count": 18,
      "outputs": [
        {
          "output_type": "execute_result",
          "data": {
            "text/plain": [
              "{'ID': 5200, 'Salary': 5, 'name': 'Rakin', 'position': 'Manager'}"
            ]
          },
          "metadata": {
            "tags": []
          },
          "execution_count": 18
        }
      ]
    },
    {
      "cell_type": "code",
      "metadata": {
        "id": "lEwy2gWpf22f",
        "colab_type": "code",
        "colab": {}
      },
      "source": [
        "# Another solution (most effective)\n",
        "all_emp = {\n",
        "    52 : emp1,\n",
        "    520 : emp2,\n",
        "    5200 : emp3,\n",
        "}"
      ],
      "execution_count": 19,
      "outputs": []
    },
    {
      "cell_type": "code",
      "metadata": {
        "id": "SpxA69WSf8nu",
        "colab_type": "code",
        "colab": {}
      },
      "source": [
        "# Another solution (most effective)\n",
        "all_emp = {\n",
        "    52 : emp1,\n",
        "    520 : emp2,\n",
        "    5200 : emp3,\n",
        "}"
      ],
      "execution_count": 20,
      "outputs": []
    },
    {
      "cell_type": "code",
      "metadata": {
        "id": "5rkUZy7ogBVM",
        "colab_type": "code",
        "colab": {}
      },
      "source": [
        "all_emp = {\n",
        "    \n",
        "    52 : {\n",
        "      \"name\" : \"Efti\",\n",
        "      \"position\" : \"Soft Engineer\",\n",
        "      \"Salary\" : 10,\n",
        "      \"ID\" : 52\n",
        "    },\n",
        "\n",
        "    520 : {\n",
        "      \"name\" : \"Ashfi\",\n",
        "      \"position\" : \"CEO\",\n",
        "      \"Salary\" : 100,\n",
        "      \"ID\" : 520\n",
        "    },\n",
        "    \n",
        "    5200 : {\n",
        "      \"name\" : \"Rakin\",\n",
        "      \"position\" : \"Manager\",\n",
        "      \"Salary\" : 5,\n",
        "      \"ID\" : 5200\n",
        "    }\n",
        "\n",
        "}"
      ],
      "execution_count": 21,
      "outputs": []
    },
    {
      "cell_type": "code",
      "metadata": {
        "id": "bNm_grWbgGPe",
        "colab_type": "code",
        "colab": {}
      },
      "source": [
        "all_emp = {\n",
        "    emp1[\"ID\"] : emp1,\n",
        "    emp2[\"ID\"] : emp2,\n",
        "    emp3[\"ID\"] : emp3,\n",
        "}"
      ],
      "execution_count": 23,
      "outputs": []
    },
    {
      "cell_type": "code",
      "metadata": {
        "id": "frg2guiIgJMH",
        "colab_type": "code",
        "colab": {
          "base_uri": "https://localhost:8080/",
          "height": 34
        },
        "outputId": "70a32760-b363-464c-c751-8a400aef1284"
      },
      "source": [
        "all_emp[5200]"
      ],
      "execution_count": 24,
      "outputs": [
        {
          "output_type": "execute_result",
          "data": {
            "text/plain": [
              "{'ID': 5200, 'Salary': 5, 'name': 'Rakin', 'position': 'Manager'}"
            ]
          },
          "metadata": {
            "tags": []
          },
          "execution_count": 24
        }
      ]
    },
    {
      "cell_type": "code",
      "metadata": {
        "id": "LqbFw-YGgQTV",
        "colab_type": "code",
        "colab": {
          "base_uri": "https://localhost:8080/",
          "height": 34
        },
        "outputId": "821f48f4-df47-44a3-cf19-817882647664"
      },
      "source": [
        "print(all_emp[5200])"
      ],
      "execution_count": 25,
      "outputs": [
        {
          "output_type": "stream",
          "text": [
            "{'name': 'Rakin', 'position': 'Manager', 'Salary': 5, 'ID': 5200}\n"
          ],
          "name": "stdout"
        }
      ]
    },
    {
      "cell_type": "markdown",
      "metadata": {
        "id": "ZiBcuWiYgaJt",
        "colab_type": "text"
      },
      "source": [
        "**LOOP**"
      ]
    },
    {
      "cell_type": "markdown",
      "metadata": {
        "id": "Elh_d-eggstW",
        "colab_type": "text"
      },
      "source": [
        "1 + 2 + . . .. + 10 = 55"
      ]
    },
    {
      "cell_type": "code",
      "metadata": {
        "id": "e__S5sfhghlc",
        "colab_type": "code",
        "colab": {
          "base_uri": "https://localhost:8080/",
          "height": 34
        },
        "outputId": "3b0f7e5d-d0db-43bb-981c-a44a33c41462"
      },
      "source": [
        "i=1\n",
        "sum = 0\n",
        "while i<11 :\n",
        "  if(i == 10):\n",
        "    print(i, end=' ')\n",
        "  else:\n",
        "    print(i, \"+\" , end=' ')\n",
        "  sum = sum + i\n",
        "  i += 1\n",
        "print(\"=\", sum)"
      ],
      "execution_count": 26,
      "outputs": [
        {
          "output_type": "stream",
          "text": [
            "1 + 2 + 3 + 4 + 5 + 6 + 7 + 8 + 9 + 10 = 55\n"
          ],
          "name": "stdout"
        }
      ]
    },
    {
      "cell_type": "markdown",
      "metadata": {
        "id": "j0uYVKf0hb2W",
        "colab_type": "text"
      },
      "source": [
        "input:\n",
        "start: 10\n",
        "end: 20\n",
        "output:\n",
        "10 + 11 + ... + 20 = ?"
      ]
    },
    {
      "cell_type": "code",
      "metadata": {
        "id": "ZjuRDEMThdPc",
        "colab_type": "code",
        "colab": {
          "base_uri": "https://localhost:8080/",
          "height": 70
        },
        "outputId": "9967b106-f9b8-4bea-c5ce-23a23f8bf2c3"
      },
      "source": [
        "start = int(input(\"Start: \"))\n",
        "end_p = int(input(\"End: \"))\n",
        "\n",
        "sum = 0\n",
        "i=start\n",
        "\n",
        "while i<end_p+1 :\n",
        "  if(i == end_p):\n",
        "    print(i, end=' ')\n",
        "  else:\n",
        "    print(i, \"+\" , end=' ')\n",
        "  sum = sum + i\n",
        "  i += 1\n",
        "print(\"=\", sum)"
      ],
      "execution_count": 27,
      "outputs": [
        {
          "output_type": "stream",
          "text": [
            "Start: 10\n",
            "End: 20\n",
            "10 + 11 + 12 + 13 + 14 + 15 + 16 + 17 + 18 + 19 + 20 = 165\n"
          ],
          "name": "stdout"
        }
      ]
    },
    {
      "cell_type": "markdown",
      "metadata": {
        "id": "qMRvzaHlh6Ii",
        "colab_type": "text"
      },
      "source": [
        "input:\n",
        "start: 20\n",
        "finish: 40\n",
        "output:\n",
        "20 + 22 + 24 + ... + 40 =?"
      ]
    },
    {
      "cell_type": "code",
      "metadata": {
        "id": "kZ7oh0tPh-bM",
        "colab_type": "code",
        "colab": {
          "base_uri": "https://localhost:8080/",
          "height": 70
        },
        "outputId": "6c73ddfb-d046-4209-c416-8f9a8a25f3f4"
      },
      "source": [
        "start = int(input(\"Start: \"))\n",
        "end_p = int(input(\"End: \"))\n",
        "\n",
        "sum = 0\n",
        "i=start\n",
        "\n",
        "while i<end_p+1 :\n",
        "  if i%2 == 0:\n",
        "    \n",
        "    if(i == end_p):\n",
        "      print(i, end=' ')\n",
        "    else:\n",
        "      print(i, \"+\" , end=' ')\n",
        "    \n",
        "    sum = sum + i\n",
        "\n",
        "  i += 1\n",
        "print(\"=\", sum)"
      ],
      "execution_count": 28,
      "outputs": [
        {
          "output_type": "stream",
          "text": [
            "Start: 20\n",
            "End: 40\n",
            "20 + 22 + 24 + 26 + 28 + 30 + 32 + 34 + 36 + 38 + 40 = 330\n"
          ],
          "name": "stdout"
        }
      ]
    },
    {
      "cell_type": "markdown",
      "metadata": {
        "id": "xnRTrkgjiLpq",
        "colab_type": "text"
      },
      "source": [
        "input: start: 20 finish: 40 output: 20 + 22 + 24 + ... + 40 =?"
      ]
    },
    {
      "cell_type": "code",
      "metadata": {
        "id": "ZzMhPNZjiUDg",
        "colab_type": "code",
        "colab": {
          "base_uri": "https://localhost:8080/",
          "height": 70
        },
        "outputId": "2e97a439-ce79-464e-c04a-11d74ff95c24"
      },
      "source": [
        "start = int(input(\"Start: \"))\n",
        "end_p = int(input(\"End: \"))\n",
        "\n",
        "sum = 0\n",
        "i=start\n",
        "\n",
        "while i<end_p+1 :\n",
        "    \n",
        "  if(i == end_p):\n",
        "    print(i, end=' ')\n",
        "  else:\n",
        "    print(i, \"+\" , end=' ')\n",
        "    \n",
        "  sum = sum + i\n",
        "  i += 2\n",
        "\n",
        "print(\"=\", sum)"
      ],
      "execution_count": 29,
      "outputs": [
        {
          "output_type": "stream",
          "text": [
            "Start: 10\n",
            "End: 20\n",
            "10 + 12 + 14 + 16 + 18 + 20 = 90\n"
          ],
          "name": "stdout"
        }
      ]
    },
    {
      "cell_type": "code",
      "metadata": {
        "id": "ZfY7LN_3iglH",
        "colab_type": "code",
        "colab": {
          "base_uri": "https://localhost:8080/",
          "height": 70
        },
        "outputId": "6f3effa1-807d-42f6-c9a4-e66ed2660186"
      },
      "source": [
        "start = int(input(\"Start: \"))\n",
        "end_p = int(input(\"End: \"))\n",
        "\n",
        "if start%2 == 1:\n",
        "  start = start+1\n",
        "\n",
        "if end_p%2 == 1:\n",
        "  end_p = end_p - 1\n",
        "\n",
        "sum = 0\n",
        "i=start\n",
        "\n",
        "while i<end_p+1 :\n",
        "  if(i == end_p):\n",
        "    print(i, end=' ')\n",
        "  else:\n",
        "    print(i, \"+\" , end=' ')\n",
        "  \n",
        "  sum = sum + i\n",
        "  i += 2\n",
        "\n",
        "print(\"=\", sum)"
      ],
      "execution_count": 30,
      "outputs": [
        {
          "output_type": "stream",
          "text": [
            "Start: 9\n",
            "End: 21\n",
            "10 + 12 + 14 + 16 + 18 + 20 = 90\n"
          ],
          "name": "stdout"
        }
      ]
    },
    {
      "cell_type": "markdown",
      "metadata": {
        "id": "lxZyZFJUjRUc",
        "colab_type": "text"
      },
      "source": [
        "**RANGE**\n",
        "\n",
        "means =*[start : end + 1: increment]*"
      ]
    },
    {
      "cell_type": "code",
      "metadata": {
        "id": "JSNzdLDBjT71",
        "colab_type": "code",
        "colab": {
          "base_uri": "https://localhost:8080/",
          "height": 34
        },
        "outputId": "4fd5d8c2-d4ca-4f6d-cee9-76afa40e79c4"
      },
      "source": [
        "l = list( range(0, 10, 1) )\n",
        "l"
      ],
      "execution_count": 32,
      "outputs": [
        {
          "output_type": "execute_result",
          "data": {
            "text/plain": [
              "[0, 1, 2, 3, 4, 5, 6, 7, 8, 9]"
            ]
          },
          "metadata": {
            "tags": []
          },
          "execution_count": 32
        }
      ]
    },
    {
      "cell_type": "code",
      "metadata": {
        "id": "Dc04u6WAjuJl",
        "colab_type": "code",
        "colab": {
          "base_uri": "https://localhost:8080/",
          "height": 34
        },
        "outputId": "06ea528d-d1d7-4786-c479-be93d9af3ace"
      },
      "source": [
        "l = list( range(10) )\n",
        "l "
      ],
      "execution_count": 33,
      "outputs": [
        {
          "output_type": "execute_result",
          "data": {
            "text/plain": [
              "[0, 1, 2, 3, 4, 5, 6, 7, 8, 9]"
            ]
          },
          "metadata": {
            "tags": []
          },
          "execution_count": 33
        }
      ]
    },
    {
      "cell_type": "code",
      "metadata": {
        "id": "-IoNTW-9jwsf",
        "colab_type": "code",
        "colab": {
          "base_uri": "https://localhost:8080/",
          "height": 34
        },
        "outputId": "fbda0145-26bf-46e5-dae3-7f4976873a47"
      },
      "source": [
        "l = list( range(5,10) )\n",
        "l "
      ],
      "execution_count": 34,
      "outputs": [
        {
          "output_type": "execute_result",
          "data": {
            "text/plain": [
              "[5, 6, 7, 8, 9]"
            ]
          },
          "metadata": {
            "tags": []
          },
          "execution_count": 34
        }
      ]
    },
    {
      "cell_type": "code",
      "metadata": {
        "id": "f9mRUoWCj0PC",
        "colab_type": "code",
        "colab": {
          "base_uri": "https://localhost:8080/",
          "height": 34
        },
        "outputId": "26d23b9b-b07a-4cda-8ac9-e4061ee6f984"
      },
      "source": [
        "l = list( range(5,10, 2) )\n",
        "l "
      ],
      "execution_count": 35,
      "outputs": [
        {
          "output_type": "execute_result",
          "data": {
            "text/plain": [
              "[5, 7, 9]"
            ]
          },
          "metadata": {
            "tags": []
          },
          "execution_count": 35
        }
      ]
    },
    {
      "cell_type": "markdown",
      "metadata": {
        "id": "auI2Jbv7j52r",
        "colab_type": "text"
      },
      "source": [
        "**FOR LOOP**"
      ]
    },
    {
      "cell_type": "code",
      "metadata": {
        "id": "v5fnNRBgj8NO",
        "colab_type": "code",
        "colab": {
          "base_uri": "https://localhost:8080/",
          "height": 194
        },
        "outputId": "bd974821-2c2d-4d71-fba0-7f993ed50eb1"
      },
      "source": [
        "for i in range(10):\n",
        "  print(i)"
      ],
      "execution_count": 36,
      "outputs": [
        {
          "output_type": "stream",
          "text": [
            "0\n",
            "1\n",
            "2\n",
            "3\n",
            "4\n",
            "5\n",
            "6\n",
            "7\n",
            "8\n",
            "9\n"
          ],
          "name": "stdout"
        }
      ]
    },
    {
      "cell_type": "code",
      "metadata": {
        "id": "Gn8f1k4NkB4K",
        "colab_type": "code",
        "colab": {
          "base_uri": "https://localhost:8080/",
          "height": 105
        },
        "outputId": "2a22daab-3d5f-49bf-ba6b-4833b7c7855e"
      },
      "source": [
        "l = [10 , 2, \"A\", \"B\", 1010]\n",
        "\n",
        "for i in l:\n",
        "  print(i)"
      ],
      "execution_count": 37,
      "outputs": [
        {
          "output_type": "stream",
          "text": [
            "10\n",
            "2\n",
            "A\n",
            "B\n",
            "1010\n"
          ],
          "name": "stdout"
        }
      ]
    },
    {
      "cell_type": "markdown",
      "metadata": {
        "id": "q-Co__X0kTHm",
        "colab_type": "text"
      },
      "source": [
        "# **OOP**\n",
        "\n",
        "**CLASS**"
      ]
    },
    {
      "cell_type": "code",
      "metadata": {
        "id": "Bx23d8slkZP7",
        "colab_type": "code",
        "colab": {}
      },
      "source": [
        "class Account:\n",
        "  account_number = 0\n",
        "  balance = 0.0\n",
        "\n",
        "  def show_data(self):\n",
        "           # account_number -> just checks the method parameters\n",
        "           # self.account_number -> checks the class parameters\n",
        "    print(self.account_number, \" : \", self.balance)\n",
        "  \n",
        "  def set_balance(self, balance):\n",
        "           # self.balance -> class variable\n",
        "           # balance -> method parameter\n",
        "    self.balance = balance"
      ],
      "execution_count": 38,
      "outputs": []
    },
    {
      "cell_type": "code",
      "metadata": {
        "id": "JnBTM8Xnkisz",
        "colab_type": "code",
        "colab": {}
      },
      "source": [
        "a = Account()"
      ],
      "execution_count": 39,
      "outputs": []
    },
    {
      "cell_type": "code",
      "metadata": {
        "id": "rJuJwxy5kn1N",
        "colab_type": "code",
        "colab": {
          "base_uri": "https://localhost:8080/",
          "height": 34
        },
        "outputId": "8332c9cb-2f53-4c33-ab8e-f154c209ec86"
      },
      "source": [
        "print(a.account_number, a.balance)"
      ],
      "execution_count": 40,
      "outputs": [
        {
          "output_type": "stream",
          "text": [
            "0 0.0\n"
          ],
          "name": "stdout"
        }
      ]
    },
    {
      "cell_type": "code",
      "metadata": {
        "id": "GxiAvr18k7bD",
        "colab_type": "code",
        "colab": {}
      },
      "source": [
        "a.set_balance(1000)"
      ],
      "execution_count": 41,
      "outputs": []
    },
    {
      "cell_type": "code",
      "metadata": {
        "id": "3NvjB6zwk-Of",
        "colab_type": "code",
        "colab": {}
      },
      "source": [
        "a.account_number = 55"
      ],
      "execution_count": 42,
      "outputs": []
    },
    {
      "cell_type": "code",
      "metadata": {
        "id": "tCyMve4Xk_hc",
        "colab_type": "code",
        "colab": {
          "base_uri": "https://localhost:8080/",
          "height": 34
        },
        "outputId": "0a426570-2fef-4afd-d49c-487dc1132b9b"
      },
      "source": [
        "a.show_data()"
      ],
      "execution_count": 43,
      "outputs": [
        {
          "output_type": "stream",
          "text": [
            "55  :  1000\n"
          ],
          "name": "stdout"
        }
      ]
    },
    {
      "cell_type": "markdown",
      "metadata": {
        "id": "R5C_93IYlGr_",
        "colab_type": "text"
      },
      "source": [
        "**Access Modifier**"
      ]
    },
    {
      "cell_type": "code",
      "metadata": {
        "id": "7nZlcotQlKgb",
        "colab_type": "code",
        "colab": {}
      },
      "source": [
        "class Account2:\n",
        "  account_number = 0      # public attribute\n",
        "  __balance = 0.0         # Private attribute\n",
        "\n",
        "  def show_data(self):\n",
        "                          # account_number -> just checks the method parameters\n",
        "                          # self.account_number -> checks the class parameters\n",
        "    print(self.account_number, \" : \", self.__balance)\n",
        "  \n",
        "  def add_balance(self, balance):\n",
        "                          # self.balance -> class variable\n",
        "                          # balance -> method parameter\n",
        "    self.__balance += balance"
      ],
      "execution_count": 62,
      "outputs": []
    },
    {
      "cell_type": "code",
      "metadata": {
        "id": "7Osu2gi4lVqO",
        "colab_type": "code",
        "colab": {}
      },
      "source": [
        "a2 = Account2()"
      ],
      "execution_count": 63,
      "outputs": []
    },
    {
      "cell_type": "code",
      "metadata": {
        "id": "-bbR7v-XlfMb",
        "colab_type": "code",
        "colab": {}
      },
      "source": [
        "a2.account_number = 55"
      ],
      "execution_count": 64,
      "outputs": []
    },
    {
      "cell_type": "code",
      "metadata": {
        "id": "TqSfIdclljeM",
        "colab_type": "code",
        "colab": {}
      },
      "source": [
        "a2.add_balance(5000)"
      ],
      "execution_count": 65,
      "outputs": []
    },
    {
      "cell_type": "code",
      "metadata": {
        "id": "q1L3p1khlkjb",
        "colab_type": "code",
        "colab": {
          "base_uri": "https://localhost:8080/",
          "height": 34
        },
        "outputId": "c9ebf4c1-4c5b-4dc5-efb9-3e5ebf3d65cf"
      },
      "source": [
        "a2.show_data()"
      ],
      "execution_count": 66,
      "outputs": [
        {
          "output_type": "stream",
          "text": [
            "55  :  5000.0\n"
          ],
          "name": "stdout"
        }
      ]
    },
    {
      "cell_type": "code",
      "metadata": {
        "id": "MVI93wADlr-Z",
        "colab_type": "code",
        "colab": {}
      },
      "source": [
        "a2.add_balance(15000)"
      ],
      "execution_count": 67,
      "outputs": []
    },
    {
      "cell_type": "markdown",
      "metadata": {
        "id": "extBISx8ma9a",
        "colab_type": "text"
      },
      "source": [
        "**Constructor -> Initialization**"
      ]
    },
    {
      "cell_type": "code",
      "metadata": {
        "id": "pPaiKtB8mgaN",
        "colab_type": "code",
        "colab": {}
      },
      "source": [
        "class Account3:\n",
        "  account_number = 0 # public attribute\n",
        "  __balance = 0.0 # Private attribute\n",
        "\n",
        "  def __init__(self, account_number, balance):    # This is the constructor\n",
        "    self.account_number = account_number\n",
        "    self.__balance = balance\n",
        "\n",
        "  def show_data(self):\n",
        "       # account_number -> just checks the method parameters\n",
        "       # self.account_number -> checks the class parameters\n",
        "    print(self.account_number, \" : \", self.__balance)\n",
        "  \n",
        "  def add_balance(self, balance):\n",
        "       # self.balance -> class variable\n",
        "       # balance -> method parameter\n",
        "    self.__balance += balance"
      ],
      "execution_count": 70,
      "outputs": []
    },
    {
      "cell_type": "code",
      "metadata": {
        "id": "cNLLh2fPmmiS",
        "colab_type": "code",
        "colab": {}
      },
      "source": [
        "a3 = Account3(55, 8000)"
      ],
      "execution_count": 71,
      "outputs": []
    },
    {
      "cell_type": "code",
      "metadata": {
        "id": "HFgMzhQ7msAi",
        "colab_type": "code",
        "colab": {
          "base_uri": "https://localhost:8080/",
          "height": 34
        },
        "outputId": "03212127-2d27-48c0-83b2-dc6f1923f207"
      },
      "source": [
        "a3.show_data()"
      ],
      "execution_count": 72,
      "outputs": [
        {
          "output_type": "stream",
          "text": [
            "55  :  8000\n"
          ],
          "name": "stdout"
        }
      ]
    },
    {
      "cell_type": "markdown",
      "metadata": {
        "id": "KAwEItGUnAXL",
        "colab_type": "text"
      },
      "source": [
        "**Another class example**"
      ]
    },
    {
      "cell_type": "code",
      "metadata": {
        "id": "oAHpgmfenCEb",
        "colab_type": "code",
        "colab": {}
      },
      "source": [
        "class Shopping_Complex:\n",
        "\n",
        "  def __init__(self, name, location, owner):\n",
        "    self.name = name\n",
        "    self.location = location\n",
        "    self.owner = owner\n",
        "\n",
        "  def set_shops(self, n):\n",
        "    self.number_of_shops = n\n",
        "  \n",
        "  def open_or_close(self, day):\n",
        "    if(day == \"Sunday\"):\n",
        "      print(\"Closed!\")\n",
        "    else:\n",
        "      print(\"Welcome. We are open!\")\n",
        "    \n",
        "  def show_info(self):\n",
        "    print(\"Name: \", self.name)\n",
        "    print(\"Owner: \", self.owner)\n",
        "    print(\"Location: \", self.location)\n",
        "    print(\"Shops count:\", self.number_of_shops)"
      ],
      "execution_count": 73,
      "outputs": []
    },
    {
      "cell_type": "code",
      "metadata": {
        "id": "qg6FGGrQnJZ9",
        "colab_type": "code",
        "colab": {}
      },
      "source": [
        "Sumya_sisters = Shopping_Complex(\"Sumya sisters Unlimited\", \"Mymanshing\", \"Sumya\")"
      ],
      "execution_count": 74,
      "outputs": []
    },
    {
      "cell_type": "code",
      "metadata": {
        "id": "cO1m-SwGnLvs",
        "colab_type": "code",
        "colab": {}
      },
      "source": [
        "Sumya_sisters.set_shops(10000)"
      ],
      "execution_count": 75,
      "outputs": []
    },
    {
      "cell_type": "code",
      "metadata": {
        "id": "kfjofTwDnMIz",
        "colab_type": "code",
        "colab": {
          "base_uri": "https://localhost:8080/",
          "height": 34
        },
        "outputId": "94779702-85c6-412f-f709-44d83ecd6ee4"
      },
      "source": [
        "Sumya_sisters.open_or_close(\"Friday\")"
      ],
      "execution_count": 76,
      "outputs": [
        {
          "output_type": "stream",
          "text": [
            "Welcome. We are open!\n"
          ],
          "name": "stdout"
        }
      ]
    },
    {
      "cell_type": "code",
      "metadata": {
        "id": "aDcKQN4RnQna",
        "colab_type": "code",
        "colab": {
          "base_uri": "https://localhost:8080/",
          "height": 87
        },
        "outputId": "6639764a-a294-4218-e520-81e167aafeb3"
      },
      "source": [
        "Sumya_sisters.show_info()"
      ],
      "execution_count": 77,
      "outputs": [
        {
          "output_type": "stream",
          "text": [
            "Name:  Sumya sisters Unlimited\n",
            "Owner:  Sumya\n",
            "Location:  Mymanshing\n",
            "Shops count: 10000\n"
          ],
          "name": "stdout"
        }
      ]
    },
    {
      "cell_type": "markdown",
      "metadata": {
        "id": "SUIiYUY8nVG8",
        "colab_type": "text"
      },
      "source": [
        "**Object Attributes**"
      ]
    },
    {
      "cell_type": "code",
      "metadata": {
        "id": "ziLnIb5jnW2C",
        "colab_type": "code",
        "colab": {}
      },
      "source": [
        "Sumya_sisters.CEO = \"Sakib\""
      ],
      "execution_count": 78,
      "outputs": []
    },
    {
      "cell_type": "code",
      "metadata": {
        "id": "BY8RBqwKnXf7",
        "colab_type": "code",
        "colab": {}
      },
      "source": [
        "Sumya_sisters.CTO = \"Mubina\""
      ],
      "execution_count": 79,
      "outputs": []
    },
    {
      "cell_type": "code",
      "metadata": {
        "id": "Af4TLtSOneOy",
        "colab_type": "code",
        "colab": {}
      },
      "source": [
        "class CEO:\n",
        "  def __init__(self, name, age):\n",
        "    self.name = name\n",
        "    self.age = age\n",
        "  \n",
        "  def show_info(self):\n",
        "    print(\"CEO Name:\", self.name)\n",
        "    print(\"CEO Age:\", self.age)"
      ],
      "execution_count": 83,
      "outputs": []
    },
    {
      "cell_type": "code",
      "metadata": {
        "id": "EAWpmgU0nhA8",
        "colab_type": "code",
        "colab": {}
      },
      "source": [
        "sakib = CEO(\"Sakib\", 60)"
      ],
      "execution_count": 86,
      "outputs": []
    },
    {
      "cell_type": "code",
      "metadata": {
        "id": "zgoEpjNanw3m",
        "colab_type": "code",
        "colab": {}
      },
      "source": [
        "Sumya_sisters.CEO = sakib"
      ],
      "execution_count": 87,
      "outputs": []
    },
    {
      "cell_type": "code",
      "metadata": {
        "id": "e03QySKYnlVu",
        "colab_type": "code",
        "colab": {
          "base_uri": "https://localhost:8080/",
          "height": 52
        },
        "outputId": "f760bb83-db94-47ff-bd92-b3bd60d3b84a"
      },
      "source": [
        "Sumya_sisters.CEO.show_info()"
      ],
      "execution_count": 88,
      "outputs": [
        {
          "output_type": "stream",
          "text": [
            "CEO Name: Sakib\n",
            "CEO Age: 60\n"
          ],
          "name": "stdout"
        }
      ]
    },
    {
      "cell_type": "markdown",
      "metadata": {
        "id": "fdDDdStooDJW",
        "colab_type": "text"
      },
      "source": [
        "# **INHERITANCE**"
      ]
    },
    {
      "cell_type": "markdown",
      "metadata": {
        "id": "DlxkFHA7oKwK",
        "colab_type": "text"
      },
      "source": [
        "**Multilevel Inhertiance**\n",
        "example"
      ]
    },
    {
      "cell_type": "code",
      "metadata": {
        "id": "TXyFh_X-oPP5",
        "colab_type": "code",
        "colab": {}
      },
      "source": [
        "class Mobile:\n",
        "\n",
        "  def __init__(self, IMEI):\n",
        "    self.IMEI = IMEI\n",
        "  \n",
        "  def call(self, contact_number):\n",
        "    print(\"Calling ... \" , contact_number)\n",
        "  \n",
        "  def text(self, contact_number, mgs):\n",
        "    print(\"Sending message to\", contact_number, mgs)"
      ],
      "execution_count": 89,
      "outputs": []
    },
    {
      "cell_type": "code",
      "metadata": {
        "id": "KyOQdqx-oZQi",
        "colab_type": "code",
        "colab": {}
      },
      "source": [
        "class SamsungMobile(Mobile):\n",
        "  def set_logo(self):\n",
        "    print(\"Samsung logo is set\")"
      ],
      "execution_count": 90,
      "outputs": []
    },
    {
      "cell_type": "code",
      "metadata": {
        "id": "eDCn0fReoZcs",
        "colab_type": "code",
        "colab": {}
      },
      "source": [
        "class SamsungA50(SamsungMobile):\n",
        "  def set_model(self):\n",
        "    print(\"Sansumg A50 is set\")"
      ],
      "execution_count": 91,
      "outputs": []
    },
    {
      "cell_type": "code",
      "metadata": {
        "id": "S6k6ZDXpoZnL",
        "colab_type": "code",
        "colab": {}
      },
      "source": [
        "Kasfia_mobile = SamsungA50(\"0845546dsfjnsdfkmdsf5412\")"
      ],
      "execution_count": 92,
      "outputs": []
    },
    {
      "cell_type": "code",
      "metadata": {
        "id": "Z-fIRGXZof0-",
        "colab_type": "code",
        "colab": {}
      },
      "source": [
        "Kasfia_mobile.cover = \"Cartoon cover\""
      ],
      "execution_count": 93,
      "outputs": []
    },
    {
      "cell_type": "code",
      "metadata": {
        "id": "4s7_c9P2of-l",
        "colab_type": "code",
        "colab": {}
      },
      "source": [
        "Sakib_mobile = SamsungA50(\"0845546dsf5353fdfkmdsf541\")"
      ],
      "execution_count": 94,
      "outputs": []
    },
    {
      "cell_type": "markdown",
      "metadata": {
        "id": "XDMNiOkwo14t",
        "colab_type": "text"
      },
      "source": [
        "**Hierarchical**"
      ]
    },
    {
      "cell_type": "code",
      "metadata": {
        "id": "dzb9jikOo5BQ",
        "colab_type": "code",
        "colab": {}
      },
      "source": [
        "class Animal:\n",
        "  def __init__(self, food_hibbit, n_legs, n_hand):\n",
        "    self.food_hibbit = food_hibbit\n",
        "    self.n_legs = n_legs\n",
        "    self.n_hand = n_hand\n",
        "\n",
        "  def eat(self, food):\n",
        "    print(\"Eating ... \", food)\n",
        "  \n",
        "  def sleep(self):\n",
        "    print(\"sleeping ...\")\n",
        "\n",
        "  def run(self):\n",
        "    print(\"Running ...\")"
      ],
      "execution_count": 95,
      "outputs": []
    },
    {
      "cell_type": "code",
      "metadata": {
        "id": "j-6UTew_o5Vo",
        "colab_type": "code",
        "colab": {}
      },
      "source": [
        "class Tiger(Animal):\n",
        "  def hunt(self, pray):\n",
        "    print(\"Hunting ... \", pray)"
      ],
      "execution_count": 96,
      "outputs": []
    },
    {
      "cell_type": "code",
      "metadata": {
        "id": "7p9qnZDzo5f7",
        "colab_type": "code",
        "colab": {}
      },
      "source": [
        "class Deer(Animal):\n",
        "  def horn_attack(self, animal):\n",
        "    print(\"attacking\", animal, \"with horn\")"
      ],
      "execution_count": 97,
      "outputs": []
    },
    {
      "cell_type": "code",
      "metadata": {
        "id": "_vHA98sQo5kv",
        "colab_type": "code",
        "colab": {}
      },
      "source": [
        "class Dog(Animal):\n",
        "  def bark(self, something):\n",
        "    print(\"Barking at\", something)"
      ],
      "execution_count": 98,
      "outputs": []
    },
    {
      "cell_type": "code",
      "metadata": {
        "id": "sKPDpz1Zo5df",
        "colab_type": "code",
        "colab": {}
      },
      "source": [
        "Royal_Bengal_Tiger = Tiger(\"Carnivorus\", 4, 0)\n",
        "Rain_Deer = Deer(\"Harbivorus\", 4, 0)\n",
        "Bull_Dog = Dog(\"omnivorous\", 4, 0)"
      ],
      "execution_count": 99,
      "outputs": []
    },
    {
      "cell_type": "code",
      "metadata": {
        "id": "-wIUCjGDo5bw",
        "colab_type": "code",
        "colab": {
          "base_uri": "https://localhost:8080/",
          "height": 70
        },
        "outputId": "39f76bcd-872c-4c52-b7b6-1aa03b37176e"
      },
      "source": [
        "Royal_Bengal_Tiger.hunt(\"Deer\")\n",
        "\n",
        "Rain_Deer.horn_attack(\"Tiger\")\n",
        "\n",
        "Bull_Dog.bark(\"Stranger!\")"
      ],
      "execution_count": 101,
      "outputs": [
        {
          "output_type": "stream",
          "text": [
            "Hunting ...  Deer\n",
            "attacking Tiger with horn\n",
            "Barking at Stranger!\n"
          ],
          "name": "stdout"
        }
      ]
    },
    {
      "cell_type": "markdown",
      "metadata": {
        "id": "v9_dhiQlp50x",
        "colab_type": "text"
      },
      "source": [
        "**Multiple Inhertance**"
      ]
    },
    {
      "cell_type": "code",
      "metadata": {
        "id": "QnkDpybjo5Zz",
        "colab_type": "code",
        "colab": {}
      },
      "source": [
        "class Tiger1:\n",
        "  def __init__(self, color):\n",
        "    self.color = color\n",
        "  \n",
        "  def roar(self):\n",
        "    print(\"Roar like a tiger\")\n",
        "\n",
        "  def hunt(self):\n",
        "    print(\"Hunting ...\")\n",
        "\n",
        "class Lion1:\n",
        "  def __init__(self, color):\n",
        "    self.color = color\n",
        "  \n",
        "  def roar(self):\n",
        "    print(\"Roar like a King\")\n",
        "\n",
        "  def sleep(self):\n",
        "    print(\"Sleeping ...\")"
      ],
      "execution_count": 102,
      "outputs": []
    },
    {
      "cell_type": "code",
      "metadata": {
        "id": "GWlQvDy0qMXZ",
        "colab_type": "code",
        "colab": {}
      },
      "source": [
        "class Liger1(Lion1, Tiger1):\n",
        "  def set_size(self):\n",
        "    print(\"Bigger than lion and tiger!\")"
      ],
      "execution_count": 103,
      "outputs": []
    },
    {
      "cell_type": "code",
      "metadata": {
        "id": "PbknqDwOqPCV",
        "colab_type": "code",
        "colab": {}
      },
      "source": [
        "sumyas_liger = Liger1(\"Lion's color\")"
      ],
      "execution_count": 104,
      "outputs": []
    },
    {
      "cell_type": "code",
      "metadata": {
        "id": "1WZT0kCbqTbX",
        "colab_type": "code",
        "colab": {
          "base_uri": "https://localhost:8080/",
          "height": 34
        },
        "outputId": "0a5bb073-43b9-44b3-8fcf-3b489a8e4587"
      },
      "source": [
        "sumyas_liger.roar()"
      ],
      "execution_count": 105,
      "outputs": [
        {
          "output_type": "stream",
          "text": [
            "Roar like a King\n"
          ],
          "name": "stdout"
        }
      ]
    },
    {
      "cell_type": "code",
      "metadata": {
        "id": "MlUsf_vFqh0D",
        "colab_type": "code",
        "colab": {}
      },
      "source": [
        "class Liger2(Tiger1, Lion1):\n",
        "  def set_size(self):\n",
        "    print(\"Bigger than lion and tiger!\")"
      ],
      "execution_count": 106,
      "outputs": []
    },
    {
      "cell_type": "code",
      "metadata": {
        "id": "KHiCIEPFqkU4",
        "colab_type": "code",
        "colab": {}
      },
      "source": [
        "kashfias_liger = Liger2(\"Lion's color\")"
      ],
      "execution_count": 107,
      "outputs": []
    },
    {
      "cell_type": "code",
      "metadata": {
        "id": "ClfkcoE9qlFz",
        "colab_type": "code",
        "colab": {
          "base_uri": "https://localhost:8080/",
          "height": 34
        },
        "outputId": "7f738238-cc87-44ab-dce0-9e3db7ea44c3"
      },
      "source": [
        "kashfias_liger.roar()"
      ],
      "execution_count": 108,
      "outputs": [
        {
          "output_type": "stream",
          "text": [
            "Roar like a tiger\n"
          ],
          "name": "stdout"
        }
      ]
    }
  ]
}
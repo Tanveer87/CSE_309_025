{
  "nbformat": 4,
  "nbformat_minor": 0,
  "metadata": {
    "colab": {
      "name": "CSE_310_A1_A2_labtest_solve.ipynb",
      "provenance": [],
      "authorship_tag": "ABX9TyMzD4mjSPftzfgWlFfmHuaz",
      "include_colab_link": true
    },
    "kernelspec": {
      "name": "python3",
      "display_name": "Python 3"
    }
  },
  "cells": [
    {
      "cell_type": "markdown",
      "metadata": {
        "id": "view-in-github",
        "colab_type": "text"
      },
      "source": [
        "<a href=\"https://colab.research.google.com/github/Tanveer87/CSE_309_025/blob/master/CSE_310_A1_A2_labtest_solve.ipynb\" target=\"_parent\"><img src=\"https://colab.research.google.com/assets/colab-badge.svg\" alt=\"Open In Colab\"/></a>"
      ]
    },
    {
      "cell_type": "markdown",
      "metadata": {
        "id": "5N5hinHdw895",
        "colab_type": "text"
      },
      "source": [
        "LAB TEXT 1\n",
        "\n",
        "Write a python program to calculate compound interest.\t\t\t\t[5]"
      ]
    },
    {
      "cell_type": "code",
      "metadata": {
        "id": "Q4rQxwQ5wytj",
        "colab_type": "code",
        "colab": {}
      },
      "source": [
        "P = float (input(\"Principle(amount):\"))\n",
        "T = float (input(\"Time:\"))\n",
        "R = float (input(\"Rate:\"))\n",
        "\n",
        "result =float (P*(1+R/100)**T)\n",
        "print(\"Compound Interest=\",result)"
      ],
      "execution_count": null,
      "outputs": []
    },
    {
      "cell_type": "markdown",
      "metadata": {
        "id": "-wtTeqdLxIEW",
        "colab_type": "text"
      },
      "source": [
        "Write a python program to calculate the surface area and volume of a cylinder. [10]\n",
        "\n"
      ]
    },
    {
      "cell_type": "code",
      "metadata": {
        "id": "XsY17KBkxLN4",
        "colab_type": "code",
        "colab": {}
      },
      "source": [
        "radious = float (input(\"r=\"))\n",
        "height = float (input(\"h=\"))\n",
        "\n",
        "V = 3.1416*(radious**2)*height\n",
        "S = (2*3.1416*(radious**2))+(2*3.1416*radious*height)\n",
        "\n",
        "print(\"Surface area:\",S,\"square units\")\n",
        "print(\"Volume:\",round(V,2),\"cube units\")"
      ],
      "execution_count": null,
      "outputs": []
    },
    {
      "cell_type": "markdown",
      "metadata": {
        "id": "qXDVHlFbxOsn",
        "colab_type": "text"
      },
      "source": [
        "Write a python program to calculate the volume and surface area of Cone.\t[10]\n",
        "Volume:\n"
      ]
    },
    {
      "cell_type": "code",
      "metadata": {
        "id": "aP5AAAzjxRoH",
        "colab_type": "code",
        "colab": {}
      },
      "source": [
        "radious_of_circular_base = float (input(\"radious=\"))\n",
        "height_from_tip_to_base = float (input(\"height=\"))\n",
        "\n",
        "V = 0.33*3.1416*(radious_of_circular_base**2)*height_from_tip_to_base\n",
        "S = (3.1416*radious_of_circular_base*height_from_tip_to_base)+(3.1416*(radious_of_circular_base**2))\n",
        "\n",
        "\n",
        "print(\"Volume:\",round(V,2),\"cube units\")\n",
        "print(\"Surface area:\",round(S,2),\"square units\")"
      ],
      "execution_count": null,
      "outputs": []
    },
    {
      "cell_type": "markdown",
      "metadata": {
        "id": "20ZnPF2dxaP_",
        "colab_type": "text"
      },
      "source": [
        "\n",
        "Write a python program to calculate the volume and surface area of Sphere.\t[5]\n",
        "Volume:\n"
      ]
    },
    {
      "cell_type": "code",
      "metadata": {
        "id": "CY1nzJ0kxdA4",
        "colab_type": "code",
        "colab": {}
      },
      "source": [
        "radious = float (input(\"radious=\"))\n",
        "\n",
        "\n",
        "V = (4/3)*3.1416*(radious**3)\n",
        "S = (4*3.1416*(radious**2))\n",
        "\n",
        "\n",
        "print(\"Volume =\",round(V,2),\"cube units\")\n",
        "print(\"Surface area=\",round(S,2),\"square units\")\n"
      ],
      "execution_count": null,
      "outputs": []
    },
    {
      "cell_type": "markdown",
      "metadata": {
        "id": "vV5SK1RFxl0f",
        "colab_type": "text"
      },
      "source": [
        "LAB TEXT 2\n",
        "\n",
        "Write a program to check Leap year.\t\t\t\t\t\t[5]"
      ]
    },
    {
      "cell_type": "code",
      "metadata": {
        "id": "m6YkHAmixoYR",
        "colab_type": "code",
        "colab": {}
      },
      "source": [
        "year = int(input(\"Enter a year: \"))\n",
        "\n",
        "if (year % 400) == 0:\n",
        "  print(\"This year is leap year\")\n",
        "\n",
        "elif (year % 100) == 0:\n",
        "  print(\"This year is  not leap year\")  \n",
        "elif (year % 4) == 0: \n",
        "  print(\"This year is   leap year\")  \n",
        "else:  \n",
        "   print(\"This year is  not leap year\")"
      ],
      "execution_count": null,
      "outputs": []
    },
    {
      "cell_type": "markdown",
      "metadata": {
        "id": "XAITBStexud3",
        "colab_type": "text"
      },
      "source": [
        "Given a string of length 12, divide the string into 4 parts of length 3. Then swap the first part with the last part. Output the final string. \t\t\t\t[5]\n",
        "\n",
        "Example:\n",
        "Given String: “ABCDEFGHIJKL”\n"
      ]
    },
    {
      "cell_type": "code",
      "metadata": {
        "id": "VCRzBjcExzIH",
        "colab_type": "code",
        "colab": {}
      },
      "source": [
        "string_Line = \"ABCDEFGHIJKL\"\n",
        "\n",
        "PART_1=string_Line[0:3]\n",
        "PART_2=string_Line[3:6]\n",
        "PART_3=string_Line[6:9]\n",
        "PART_4=string_Line[9:12]\n",
        "\n",
        "New_string=PART_4+PART_2+PART_3+PART_1\n",
        "print(New_string)"
      ],
      "execution_count": null,
      "outputs": []
    },
    {
      "cell_type": "markdown",
      "metadata": {
        "id": "oAGODqnrx2f_",
        "colab_type": "text"
      },
      "source": [
        "Suppose you are going to start a Django Project with a group of 5 members. Now, you need to store the information (Name, ID, CGPA, Email_Address, and Contact_no) about the group members in some variables. Choose the appropriate data type where one can search a member effectively.\t"
      ]
    },
    {
      "cell_type": "code",
      "metadata": {
        "id": "G4GzKF7qx62w",
        "colab_type": "code",
        "colab": {}
      },
      "source": [
        "#we need dictionary data type for search the member effectively \n",
        "Group_member1 = {\n",
        "    \"Name\" : \"Tanveer\",\n",
        "    \"ID\" : \"18101025\",\n",
        "    \"CGPA\" : 3.5,\n",
        "    \"Email_Address\" : \"18101025@uap-bd.edu\",\n",
        "    \"Contact_no\" : \"0185856\"\n",
        "}\n",
        "\n",
        "Group_member2 = {\n",
        "    \"Name\" : \"Mashfee\",\n",
        "    \"ID\" : \"18101018\",\n",
        "    \"CGPA\" : 3.8,\n",
        "    \"Email_Address\" : \"18101018@uap-bd.edu\",\n",
        "    \"Contact_no\" : \"0185854\"\n",
        "}\n",
        "Group_member3 = {\n",
        "    \"Name\" : \"IFty\",\n",
        "    \"ID\" : \"18101014\",\n",
        "    \"CGPA\" : 3.7,\n",
        "    \"Email_Address\" : \"18101014@uap-bd.edu\",\n",
        "    \"Contact_no\" : \"0185825\"\n",
        "}\n",
        "Group_member4 = {\n",
        "    \"Name\" : \"Antik\",\n",
        "    \"ID\" : \"18101012\",\n",
        "    \"CGPA\" : 3.65,\n",
        "    \"Email_Address\" : \"18101012@uap-bd.edu\",\n",
        "    \"Contact_no\" : \"0185836\"\n",
        "}\n",
        "Group_member5 = {\n",
        "    \"Name\" : \"Adnan\",\n",
        "    \"ID\" : \"18101017\",\n",
        "    \"CGPA\" : 3.75,\n",
        "    \"Email_Address\" : \"18101017@uap-bd.edu\",\n",
        "    \"Contact_no\" : \"0185819\"\n",
        "}\n",
        "group_member = {\n",
        "    Group_member1[\"ID\"] : Group_member1,\n",
        "    Group_member2[\"ID\"] : Group_member2,\n",
        "    Group_member3[\"ID\"] : Group_member3,\n",
        "    Group_member4[\"ID\"] : Group_member4,\n",
        "    Group_member5[\"ID\"] : Group_member5\n",
        "}\n",
        "\n",
        "group_member[\"18101025\"]"
      ],
      "execution_count": null,
      "outputs": []
    },
    {
      "cell_type": "markdown",
      "metadata": {
        "id": "CmkNJZP_yFUf",
        "colab_type": "text"
      },
      "source": [
        "Choose variables of appropriate data type to store the information of the following table in a way that if someone inputs the EmployeeID, it will show all the information of that Employee.\t\t\t\t\t\t[5]"
      ]
    },
    {
      "cell_type": "code",
      "metadata": {
        "id": "z3yedQp0ym5X",
        "colab_type": "code",
        "colab": {}
      },
      "source": [
        "Employee1 = {\n",
        "    \"EmployeeID\" : 1001,\n",
        "    \"Ename\" : \"John\",\n",
        "    \"DeptID\" : 2,\n",
        "    \"Salary\" : 4000,\n",
        "    \"Dname\" : \"IT\",\n",
        "    \"Dlocation\" : \"New Delhi\"\n",
        "}\n",
        "Employee2 = {\n",
        "    \"EmployeeID\" : 1002,\n",
        "    \"Ename\" : \"Anna\",\n",
        "    \"DeptID\" : 1,\n",
        "    \"Salary\" : 3500,\n",
        "    \"Dname\" : \"HR\",\n",
        "    \"Dlocation\" : \"Mumbai\"\n",
        "}\n",
        "Employee3 = {\n",
        "    \"EmployeeID\" : 1003,\n",
        "    \"Ename\" : \"James\",\n",
        "    \"DeptID\" : 1,\n",
        "    \"Salary\" : 2500,\n",
        "    \"Dname\" : \"HR\",\n",
        "    \"Dlocation\" : \"Mumbai\"\n",
        "}\n",
        "Employee4 = {\n",
        "    \"EmployeeID\" : 1004,\n",
        "    \"Ename\" : \"David\",\n",
        "    \"DeptID\" : 2,\n",
        "    \"Salary\" : 5000,\n",
        "    \"Dname\" : \"IT\",\n",
        "    \"Dlocation\" : \"New Delhi\"\n",
        "}\n",
        "all_Employee = {\n",
        "    Employee1[\"EmployeeID\"] : Employee1,\n",
        "    Employee2[\"EmployeeID\"] : Employee2,\n",
        "    Employee3[\"EmployeeID\"] : Employee3,\n",
        "    Employee4[\"EmployeeID\"] : Employee4\n",
        "\n",
        "}\n",
        "print(all_Employee[1002][\"Ename\"])\n",
        "print(all_Employee[1002][\"DeptID\"])\n",
        "print(all_Employee[1002][\"Salary\"])\n",
        "print(all_Employee[1002][\"Dname\"])\n",
        "print(all_Employee[1002][\"Dlocation\"])"
      ],
      "execution_count": null,
      "outputs": []
    },
    {
      "cell_type": "markdown",
      "metadata": {
        "id": "DQyOvvYNyvLC",
        "colab_type": "text"
      },
      "source": [
        "LAB TEST **3**\n",
        "\n",
        "Sum the following series using for loop:\n",
        "1 + 4 + 9 + 16 + ….. + Up to n-th term= ? (Hint: square series)\t\t[4]\n"
      ]
    },
    {
      "cell_type": "code",
      "metadata": {
        "id": "081ELQOGzKUB",
        "colab_type": "code",
        "colab": {}
      },
      "source": [
        "n= int(input(\"number: \"))\n",
        "\n",
        "sum = 0\n",
        "for i in range(1,n+1) :\n",
        "  \n",
        "  sum = sum + (i * i)\n",
        "print(sum) "
      ],
      "execution_count": null,
      "outputs": []
    },
    {
      "cell_type": "markdown",
      "metadata": {
        "id": "foC9V82IzWmP",
        "colab_type": "text"
      },
      "source": [
        "You have a list of students. Each student’s information is stored using a dictionary. \n",
        "\n",
        "\n",
        "Now write a python program to search a student by his/her ID. Use a loop and conditional (or only conditional) so that this can also work on a big list of students. \n"
      ]
    },
    {
      "cell_type": "code",
      "metadata": {
        "id": "i9VTYZx6zc2_",
        "colab_type": "code",
        "colab": {}
      },
      "source": [
        "student1 = {\n",
        "    \"stduent_id\" : 1,\n",
        "    \"Iname\" : \"Salrad\",\n",
        "    \"fname\" : \"jean\",\n",
        "    \"age\" : 19\n",
        "}\n",
        "student2 = {\n",
        "    \"stduent_id\" : 2,\n",
        "    \"Iname\" : \"Le Bert\",\n",
        "    \"fname\" : \"Antonie\",\n",
        "    \"age\" : 24\n",
        "}\n",
        "student3 = {\n",
        "    \"stduent_id\" : 3,\n",
        "    \"Iname\" : \"Legendre\",\n",
        "    \"fname\" : \"Pierre\",\n",
        "    \"age\" : 23\n",
        "}\n",
        "student4 = {\n",
        "    \"stduent_id\" : 4,\n",
        "    \"Iname\" : \"Turcotte\",\n",
        "    \"fname\" : \"cedric\",\n",
        "    \"age\" : 24\n",
        "}\n",
        "student5 = {\n",
        "    \"stduent_id\" : 5,\n",
        "    \"Iname\" : \"Trembly\",\n",
        "    \"fname\" : \"Alfredo\",\n",
        "    \"age\" : 22\n",
        "}\n",
        "\n",
        "student = {\n",
        "    student1[\"stduent_id\"] : student1,\n",
        "    student2[\"stduent_id\"] : student2,\n",
        "    student3[\"stduent_id\"] : student3,\n",
        "    student4[\"stduent_id\"] : student4,\n",
        "    student5[\"stduent_id\"] : student5\n",
        "\n",
        "}\n",
        "\n",
        "l = [student1,student2,student3,student4,student5]\n",
        "\n",
        "for student in l:\n",
        "  if student[\"stduent_id\"] == 2:\n",
        "    print(student)"
      ],
      "execution_count": null,
      "outputs": []
    },
    {
      "cell_type": "markdown",
      "metadata": {
        "id": "AnK1ODDlzjyn",
        "colab_type": "text"
      },
      "source": [
        "**LAB TEST 4**\n",
        "\n",
        " Write a python class for calculating the motion of a moving object by using the following equations\t\t\t\t\t\t\t\t\t\t\t[6]\n"
      ]
    },
    {
      "cell_type": "code",
      "metadata": {
        "id": "Comm7n3Xz5YQ",
        "colab_type": "code",
        "colab": {}
      },
      "source": [
        "import math as p\n",
        "class PhysicsFormula:\n",
        "\n",
        "  def formula1(self,u,a,t):\n",
        "    self.v=u+a*t\n",
        "    print(self.v)\n",
        "\n",
        "  def formula2(self,u,t,a):\n",
        "    self.s=u*t+0.5*a*(t**2)\n",
        "    print(self.s)\n",
        "\n",
        "  def formula3(self,u,v,t):\n",
        "    self.s=0.5*(u+v)*t\n",
        "    print(self.s)\n",
        "\n",
        "  def formula4(self,u,a,s):\n",
        "    self.v=p.sqrt(u*u+2*a*s)\n",
        "    print(self.v)"
      ],
      "execution_count": null,
      "outputs": []
    },
    {
      "cell_type": "markdown",
      "metadata": {
        "id": "y_TYq-Srz-W_",
        "colab_type": "text"
      },
      "source": [
        "Write a Credit Card class in python. A user can cash out (debit) money or pay shopping bills from his/her own card based on availability or limit. Initially,  a credit card holder gets 100000 taka limit. The user has to pay back to the credit card bank.\t\t[12]\n",
        "\n",
        "Moreover, the account stores the following information\t\t\t\t\t\t\n",
        "\tInstance variables: (information should be provided at the time of account creation)\n",
        "a.Name of the credit card holder\n",
        "b.Credit card number\n",
        "c.Current Balance\n",
        "d.Max limit\n",
        "\tMethods:\n",
        "a.Deposit \n",
        "b.Debit\n",
        "c.Show current balance\n",
        "d.Pay bill\n"
      ]
    },
    {
      "cell_type": "code",
      "metadata": {
        "id": "afaEou1l0Q0G",
        "colab_type": "code",
        "colab": {}
      },
      "source": [
        "class CreditCard:\n",
        "\n",
        "  def __init__(self,Card_holder_Name,C_No,C_balance,Max_limit):\n",
        "\n",
        "    self.Card_holder_Name= Card_holder_Name\n",
        "    self.C_No = C_No\n",
        "    self.C_balance= C_balance\n",
        "    self.Max_limit= Max_limit\n",
        "\n",
        "  def Deposite(self,deposite):\n",
        "    self.C_balance = self.C_balance+deposite\n",
        "   \n",
        "  def Debit(self,pay_money):\n",
        "    if (self.C_balance>=pay_money):\n",
        "      self.C_balance = self.C_balance - pay_money\n",
        "      \n",
        "  def show_C_balance(self):\n",
        "    print(self.C_balance)\n",
        "\n",
        "  def Pay_Bill(self,back_money):\n",
        "    self.C_balance = self.C_balance+back_money\n",
        "    print(self.C_balance)"
      ],
      "execution_count": null,
      "outputs": []
    },
    {
      "cell_type": "markdown",
      "metadata": {
        "id": "0OIp35GJ0cz2",
        "colab_type": "text"
      },
      "source": [
        "**A2  LAB TEST 1**\n",
        "\n",
        "\n",
        "Calculate compound interest"
      ]
    },
    {
      "cell_type": "code",
      "metadata": {
        "id": "QGWqLrRi1-_2",
        "colab_type": "code",
        "colab": {}
      },
      "source": [
        "p=int(input(' Principle (amount): '))\n",
        "t=int(input('Time (in years) : '))\n",
        "r=float(input(' Rate: '))\n",
        "x=1+(r/100)\n",
        "y=x**t\n",
        "result=p*y\n",
        "print('Compound Interest = ',round(result,6))"
      ],
      "execution_count": null,
      "outputs": []
    },
    {
      "cell_type": "markdown",
      "metadata": {
        "id": "Ns-gzycb2Hf9",
        "colab_type": "text"
      },
      "source": [
        "proble 2\n"
      ]
    },
    {
      "cell_type": "code",
      "metadata": {
        "id": "2U2PMOGm2NqQ",
        "colab_type": "code",
        "colab": {}
      },
      "source": [
        "r=int(input('r'))\n",
        "result=r*3.1416*2\n",
        "print('Perimeter:',round(result,2))"
      ],
      "execution_count": null,
      "outputs": []
    },
    {
      "cell_type": "markdown",
      "metadata": {
        "id": "4WSnSnhO2USG",
        "colab_type": "text"
      },
      "source": [
        "problem 3"
      ]
    },
    {
      "cell_type": "code",
      "metadata": {
        "id": "cAa3XhKw2Vx9",
        "colab_type": "code",
        "colab": {}
      },
      "source": [
        "r=int(input('r'))\n",
        "h=int(input('h'))\n",
        "vol=3.1416*r**2*h\n",
        "area=(2*3.1416*r**2)+(2*3.1416*r*h)\n",
        "print('Surface area:',round(area,2),'square units')\n",
        "print('Volume:',round(vol,2),'cube units')"
      ],
      "execution_count": null,
      "outputs": []
    },
    {
      "cell_type": "markdown",
      "metadata": {
        "id": "E7nGncOH2aDo",
        "colab_type": "text"
      },
      "source": [
        "**A2 LAB TEST 2**\n",
        "\n",
        "Write a python code to determine odd or even."
      ]
    },
    {
      "cell_type": "code",
      "metadata": {
        "id": "wxgByT8N2g_o",
        "colab_type": "code",
        "colab": {}
      },
      "source": [
        "x=int(input(\"Enter a number to check even/odd: \"))\n",
        "if x%2==0:\n",
        "  print(\"Even Number\")\n",
        "else:\n",
        "  print(\"Odd Number\")"
      ],
      "execution_count": null,
      "outputs": []
    },
    {
      "cell_type": "markdown",
      "metadata": {
        "id": "Uc0yCvWe2jIW",
        "colab_type": "text"
      },
      "source": [
        "Write a python program to calculate the letter grade of an H.S.C exam. The exam mark will be given as input"
      ]
    },
    {
      "cell_type": "code",
      "metadata": {
        "id": "iRnbOWe52nVI",
        "colab_type": "code",
        "colab": {}
      },
      "source": [
        "x=float(input(\"Enter a number to check your grade: \"))\n",
        "if x>=80.0:\n",
        "  print(\"A+\")\n",
        "elif x>=70.0 and x<80:\n",
        "  print(\"A\")\n",
        "elif x>=60 and x<70:\n",
        "  print(\"A-\")\n",
        "elif x>=50.0 and x<60:\n",
        "  print(\"B\")\n",
        "elif x>=40.0 and x<50:\n",
        "  print(\"C\")\n",
        "elif x>=33.0 and x<40:\n",
        "  print(\"D\")\n",
        "elif x<32:\n",
        " print(\"F\")"
      ],
      "execution_count": null,
      "outputs": []
    },
    {
      "cell_type": "markdown",
      "metadata": {
        "id": "hyavIb-22s_3",
        "colab_type": "text"
      },
      "source": [
        "Given a string of length 12, divide the string into 4 parts of length 3. Then swap the first part with the last part. Output the final string.\n",
        "\n",
        "\n"
      ]
    },
    {
      "cell_type": "code",
      "metadata": {
        "id": "CGGqg85e3Avn",
        "colab_type": "code",
        "colab": {}
      },
      "source": [
        "x=input(\"Enter a 12 length string: \")\n",
        "x1=x[0:3]\n",
        "x2=x[3:6]\n",
        "x3=x[6:9]\n",
        "x4=x[9:12]\n",
        "y=x4+x2+x3+x1\n",
        "print(\"Output: \",y)"
      ],
      "execution_count": null,
      "outputs": []
    },
    {
      "cell_type": "markdown",
      "metadata": {
        "id": "_BQa7Lqb3EWO",
        "colab_type": "text"
      },
      "source": [
        "Choose variables of appropriate data type to store the information of the following table in a way that if someone inputs the ID, it will show all the information of that student"
      ]
    },
    {
      "cell_type": "code",
      "metadata": {
        "id": "0nJSIFSK3Gs2",
        "colab_type": "code",
        "colab": {}
      },
      "source": [
        "y=int(input(\"Enter id: \"))\n",
        "d1={\n",
        "    \"ID\":\"1\",\n",
        "   \"First name\":\"Peter\",\n",
        "   \"Last name\":\"Lee\",\n",
        "   \"Email\":\"pele@university.edu\",\n",
        "   \"Year of birth\":\"1992\"\n",
        "\n",
        "\n",
        "}\n",
        "d2={\n",
        "    \"ID\":\"2\",\n",
        "   \"First name\":\"Jonatham\",\n",
        "   \"Last name\":\"Edwards\",\n",
        "   \"Email\":\"jedwards@university.edu\",\n",
        "   \"Year of birth\":\"1994\"\n",
        "\n",
        "\n",
        "}\n",
        "d3={\n",
        "    \"ID\":\"3\",\n",
        "   \"First name\":\"Marylin\",\n",
        "   \"Last name\":\"Johnsan\",\n",
        "   \"Email\":\"mjohnson@university.edu\",\n",
        "   \"Year of birth\":\"1993\"\n",
        "\n",
        "\n",
        "}\n",
        "d4={\n",
        "    \"ID\":\"6\",\n",
        "   \"First name\":\"Joe\",\n",
        "   \"Last name\":\"Kim\",\n",
        "   \"Email\":\"jkim@university.edu\",\n",
        "   \"Year of birth\":\"1992\"\n",
        "\n",
        "\n",
        "}\n",
        "d5={\n",
        "    \"ID\":\"12\",\n",
        "   \"First name\":\"Haley\",\n",
        "   \"Last name\":\"Martinez\",\n",
        "   \"Email\":\"hmartinez@university.edu\",\n",
        "   \"Year of birth\":\"1993\"\n",
        "\n",
        "\n",
        "}\n",
        "dictionary={\n",
        "    1:d1,\n",
        "   2:d2,\n",
        "   3:d3,\n",
        "   6:d4,\n",
        "   12:d5\n",
        "}\n",
        "\n",
        "print(dictionary[y])"
      ],
      "execution_count": null,
      "outputs": []
    },
    {
      "cell_type": "markdown",
      "metadata": {
        "id": "61RlcGa83Kwu",
        "colab_type": "text"
      },
      "source": [
        "**A2 LAB TEST 3**\n",
        "\n",
        "problem 1"
      ]
    },
    {
      "cell_type": "code",
      "metadata": {
        "id": "brvEBHUc3YJ3",
        "colab_type": "code",
        "colab": {}
      },
      "source": [
        "d1={\n",
        "    \"ID\":\"1\",\n",
        "    \"First name\":\"Peter\",\n",
        "    \"Last name\":\"Lee\",\n",
        "    \"Email\":\"plee@university.edu\",\n",
        "    \"Year Of Birth\":\"1992\"\n",
        "}\n",
        "d2={\n",
        "    \"ID\":\"2\",\n",
        "    \"First name\":\"Jonathan\",\n",
        "    \"Last name\":\"Edwars\",\n",
        "    \"Email\":\"jedwards@university.edu\",\n",
        "    \"Year Of Birth\":\"1994\"\n",
        "}\n",
        "d3={\n",
        "    \"ID\":\"3\",\n",
        "    \"First name\":\"Marylin\",\n",
        "    \"Last name\":\"Jhonson\",\n",
        "    \"Email\":\"mjhonson@university.edu\",\n",
        "    \"Year Of Birth\":\"1993\"\n",
        "}\n",
        "d4={\n",
        "    \"ID\":\"6\",\n",
        "    \"First name\":\"Joe\",\n",
        "    \"Last name\":\"Kim\",\n",
        "    \"Email\":\"jkim@university.edu\",\n",
        "    \"Year Of Birth\":\"1992\"\n",
        "}\n",
        "\n",
        "l = [d1, d2, d3, d4]\n",
        "\n",
        "x=input(\"Enter student id: \")\n",
        "flag=0\n",
        "for i in l:\n",
        "  if i[\"ID\"] == x :\n",
        "    print(i)\n",
        "    flag=1\n",
        "if flag==1:\n",
        "  pass\n",
        "else:\n",
        "  print(\"Id is not registered.\")   "
      ],
      "execution_count": null,
      "outputs": []
    },
    {
      "cell_type": "markdown",
      "metadata": {
        "id": "nvqCxnEo3adG",
        "colab_type": "text"
      },
      "source": [
        "**A2 LAB TEST 4**\n",
        "\n",
        "problem 1"
      ]
    },
    {
      "cell_type": "code",
      "metadata": {
        "id": "Peh9r5L03qeW",
        "colab_type": "code",
        "colab": {}
      },
      "source": [
        "import math as m\n",
        "class calculator:\n",
        "  a=0.0\n",
        "  b=0.0\n",
        "  c=0.0\n",
        "  def plus(self,a,b):\n",
        "    self.c=a+b\n",
        "    print(self.c)\n",
        "  \n",
        "  def minious(self,a,b):\n",
        "    self.c=a-b\n",
        "    print(self.c)\n",
        "    \n",
        "  def multiply(self,a,b):\n",
        "    self.c=a*b\n",
        "    print(self.c)\n",
        "\n",
        "  def divide(self,a,b):\n",
        "    self.c=a/b\n",
        "    print(self.c)\n",
        "\n",
        "  def squrt(self,a):\n",
        "    self.c=m.sqrt(a)\n",
        "    print(self.c)\n",
        "\n",
        "  def round(self,a):\n",
        "    self.c=m.round(a)\n",
        "    print(self.c)\n",
        "\n",
        "  def power(self,a,b):\n",
        "    self.c=m.pow(a,b)\n",
        "    print(self.c)\n",
        "\n",
        "  def log(self,a,base):\n",
        "    self.c=m.log(a,base)\n",
        "    print(self.c)\n",
        "\n",
        "  def sin(self,angle):\n",
        "    a=m.degrees(angle)\n",
        "    self.c=m.sin(a)\n",
        "    print(self.c)\n",
        "\n",
        "  def cos(self,angle):\n",
        "    a=m.degrees(angle)\n",
        "    self.c= m.cos(a)\n",
        "    print(self.c)\n",
        "\n",
        "  def tan(self,angle):\n",
        "    a=m.degrees(angle)\n",
        "    self.c=m.tan(a)\n",
        "    print(self.c)\n",
        "\n",
        "  def factorial(self,a):\n",
        "    self.c=m.factorial(a)\n",
        "    print(self.c)\n",
        "\n",
        "  def mod(self,a,b):\n",
        "    self.c=a%b\n",
        "    print(self.c)\n",
        "\n",
        "  def percentage(self,a,b):\n",
        "    self.c=(b*100)/a\n",
        "    print(self.c)\n",
        "    \n",
        "  def ans(self):\n",
        "    print(self.c)"
      ],
      "execution_count": null,
      "outputs": []
    },
    {
      "cell_type": "markdown",
      "metadata": {
        "id": "OLOBCkdi3rLe",
        "colab_type": "text"
      },
      "source": [
        "problem 2"
      ]
    },
    {
      "cell_type": "code",
      "metadata": {
        "id": "QLlXnf9c3shm",
        "colab_type": "code",
        "colab": {}
      },
      "source": [
        "class student:\n",
        "  name=\"\"\n",
        "  id=0\n",
        "  semester=\"\"\n",
        "  email=\"\"\n",
        "  cgpa=0.0\n",
        "  credit_complete=0.0\n",
        "  def __init__(self,name,id,semester,email):\n",
        "    self.name=name\n",
        "    self.id=id\n",
        "    self.semester=semester\n",
        "    self.email=email\n",
        "  def show_data(self):\n",
        "    print(self.name,\"\\n\",self.id,\"\\n\",self.semester,\"\\n\",self.email,\"\\n\",self.cgpa,\"\\n\",self.credit_complete,\"\\n\")\n",
        "  def update_semester(self,semester):\n",
        "    self.semester=semester\n",
        "  def update_cgpa(self,cgpa):\n",
        "    self.cgpa=cgpa\n",
        "  def upadte_completed_credit(self,credit):\n",
        "    self.credit_complete=credit"
      ],
      "execution_count": 1,
      "outputs": []
    },
    {
      "cell_type": "code",
      "metadata": {
        "id": "Y8G6Uwsi33kF",
        "colab_type": "code",
        "colab": {}
      },
      "source": [
        "a=student(\"sakib\",1,\"3-1\",\"18101032@uap-bd.edu\")"
      ],
      "execution_count": 2,
      "outputs": []
    },
    {
      "cell_type": "code",
      "metadata": {
        "id": "jank7weg4IBg",
        "colab_type": "code",
        "colab": {}
      },
      "source": [
        "a.upadte_completed_credit(98.5)"
      ],
      "execution_count": 3,
      "outputs": []
    },
    {
      "cell_type": "code",
      "metadata": {
        "id": "Y6pQsHdF4MCu",
        "colab_type": "code",
        "colab": {
          "base_uri": "https://localhost:8080/",
          "height": 141
        },
        "outputId": "fba60ae1-af9b-4241-f881-f95bc35ed591"
      },
      "source": [
        "a.show_data()"
      ],
      "execution_count": 4,
      "outputs": [
        {
          "output_type": "stream",
          "text": [
            "sakib \n",
            " 1 \n",
            " 3-1 \n",
            " 18101032@uap-bd.edu \n",
            " 0.0 \n",
            " 98.5 \n",
            "\n"
          ],
          "name": "stdout"
        }
      ]
    },
    {
      "cell_type": "markdown",
      "metadata": {
        "id": "B918cK-b4VfO",
        "colab_type": "text"
      },
      "source": [
        "problem : Prime_number_in_a_given_range"
      ]
    },
    {
      "cell_type": "code",
      "metadata": {
        "id": "HjTJz4vs4Y8-",
        "colab_type": "code",
        "colab": {
          "base_uri": "https://localhost:8080/",
          "height": 70
        },
        "outputId": "a31bfeb1-8a1d-4782-d0d2-c5d2d4101c79"
      },
      "source": [
        "def prime_number(a,b):\n",
        "  if(a<0):\n",
        "    print(\"Result will be shown for positive number\")\n",
        "  if(a<=1):\n",
        "    a=2\n",
        "    c=int(b/2)\n",
        "    j=2\n",
        "    for i in range(a,b):\n",
        "      for j in range(2,i):\n",
        "\n",
        "        if(i%j==0):\n",
        "          break\n",
        "      else:\n",
        "          print(i, end=' ')\n",
        "\n",
        "x =int(input(''))\n",
        "y=int(input(''))\n",
        "prime_number(x,y)"
      ],
      "execution_count": 8,
      "outputs": [
        {
          "output_type": "stream",
          "text": [
            "1\n",
            "20\n",
            "2 3 5 7 11 13 17 19 "
          ],
          "name": "stdout"
        }
      ]
    }
  ]
}
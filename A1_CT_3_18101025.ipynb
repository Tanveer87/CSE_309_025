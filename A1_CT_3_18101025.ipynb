{
  "nbformat": 4,
  "nbformat_minor": 0,
  "metadata": {
    "colab": {
      "name": "A1_CT_3_18101025.ipynb",
      "provenance": [],
      "collapsed_sections": [],
      "authorship_tag": "ABX9TyPlIBfAJOWXxNmT+u3DuNYp",
      "include_colab_link": true
    },
    "kernelspec": {
      "name": "python3",
      "display_name": "Python 3"
    }
  },
  "cells": [
    {
      "cell_type": "markdown",
      "metadata": {
        "id": "view-in-github",
        "colab_type": "text"
      },
      "source": [
        "<a href=\"https://colab.research.google.com/github/Tanveer87/CSE_309_025/blob/master/A1_CT_3_18101025.ipynb\" target=\"_parent\"><img src=\"https://colab.research.google.com/assets/colab-badge.svg\" alt=\"Open In Colab\"/></a>"
      ]
    },
    {
      "cell_type": "markdown",
      "metadata": {
        "id": "QLfDoxwDteqm",
        "colab_type": "text"
      },
      "source": [
        "# You have a list of students. Each student’s information is stored using a dictionary. \n",
        "\n",
        "\n",
        "# Now write a python program to search a student by his/her ID. Use a loop and conditional (or only conditional) so that this can also work on a big list of students. \n",
        "\n",
        "\n"
      ]
    },
    {
      "cell_type": "code",
      "metadata": {
        "id": "rOybWT2Ptlge",
        "colab_type": "code",
        "colab": {
          "base_uri": "https://localhost:8080/",
          "height": 34
        },
        "outputId": "64ff4a92-9088-4415-c5fe-990a55ec4b70"
      },
      "source": [
        "student1 = {\n",
        "    \"stduent_id\" : 1,\n",
        "    \"Iname\" : \"Salrad\",\n",
        "    \"fname\" : \"jean\",\n",
        "    \"age\" : 19\n",
        "}\n",
        "student2 = {\n",
        "    \"stduent_id\" : 2,\n",
        "    \"Iname\" : \"Le Bert\",\n",
        "    \"fname\" : \"Antonie\",\n",
        "    \"age\" : 24\n",
        "}\n",
        "student3 = {\n",
        "    \"stduent_id\" : 3,\n",
        "    \"Iname\" : \"Legendre\",\n",
        "    \"fname\" : \"Pierre\",\n",
        "    \"age\" : 23\n",
        "}\n",
        "student4 = {\n",
        "    \"stduent_id\" : 4,\n",
        "    \"Iname\" : \"Turcotte\",\n",
        "    \"fname\" : \"cedric\",\n",
        "    \"age\" : 24\n",
        "}\n",
        "student5 = {\n",
        "    \"stduent_id\" : 5,\n",
        "    \"Iname\" : \"Trembly\",\n",
        "    \"fname\" : \"Alfredo\",\n",
        "    \"age\" : 22\n",
        "}\n",
        "\n",
        "student = {\n",
        "    student1[\"stduent_id\"] : student1,\n",
        "    student2[\"stduent_id\"] : student2,\n",
        "    student3[\"stduent_id\"] : student3,\n",
        "    student4[\"stduent_id\"] : student4,\n",
        "    student5[\"stduent_id\"] : student5\n",
        "\n",
        "}\n",
        "\n",
        "l = [student1,student2,student3,student4,student5]\n",
        "\n",
        "for student in l:\n",
        "  if student[\"stduent_id\"] == 1:\n",
        "    print(student)"
      ],
      "execution_count": 7,
      "outputs": [
        {
          "output_type": "stream",
          "text": [
            "{'stduent_id': 1, 'Iname': 'Salrad', 'fname': 'jean', 'age': 19}\n"
          ],
          "name": "stdout"
        }
      ]
    }
  ]
}
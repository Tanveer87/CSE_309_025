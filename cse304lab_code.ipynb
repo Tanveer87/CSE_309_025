{
  "nbformat": 4,
  "nbformat_minor": 0,
  "metadata": {
    "colab": {
      "name": "cse304lab_code.ipynb",
      "provenance": [],
      "collapsed_sections": [],
      "authorship_tag": "ABX9TyP6Bb+CEz10Pnb55jxtYS2k",
      "include_colab_link": true
    },
    "kernelspec": {
      "name": "python3",
      "display_name": "Python 3"
    }
  },
  "cells": [
    {
      "cell_type": "markdown",
      "metadata": {
        "id": "view-in-github",
        "colab_type": "text"
      },
      "source": [
        "<a href=\"https://colab.research.google.com/github/Tanveer87/CSE_309_025/blob/master/cse304lab_code.ipynb\" target=\"_parent\"><img src=\"https://colab.research.google.com/assets/colab-badge.svg\" alt=\"Open In Colab\"/></a>"
      ]
    },
    {
      "cell_type": "code",
      "metadata": {
        "id": "qVO3VpkjO6oG",
        "outputId": "36fe34e1-3bb0-4f3d-b695-022841477fe6",
        "colab": {
          "base_uri": "https://localhost:8080/",
          "height": 34
        }
      },
      "source": [
        "list=[0,1,0,1,1,0,0,1]\n",
        "print(list)"
      ],
      "execution_count": 34,
      "outputs": [
        {
          "output_type": "stream",
          "text": [
            "[0, 1, 0, 1, 1, 0, 0, 1]\n"
          ],
          "name": "stdout"
        }
      ]
    },
    {
      "cell_type": "code",
      "metadata": {
        "id": "Qq0FkS49Jon_",
        "outputId": "10c400fb-d158-4f27-a194-b08e38094e74",
        "colab": {
          "base_uri": "https://localhost:8080/",
          "height": 34
        }
      },
      "source": [
        "for i in range(len(list)):\n",
        "    if(list[i] == 0):\n",
        "    \n",
        "      print(\"__\",end='')\n",
        "   \n",
        "    else:\n",
        "      print(\"``\",end='')\n",
        "\n",
        "    if i<len(list)-1 and list[i+1]!=list[i]:\n",
        "      print(\"|\",end='')   \n",
        "\n",
        "  "
      ],
      "execution_count": 38,
      "outputs": [
        {
          "output_type": "stream",
          "text": [
            "__|``|__|````|____|``"
          ],
          "name": "stdout"
        }
      ]
    }
  ]
}
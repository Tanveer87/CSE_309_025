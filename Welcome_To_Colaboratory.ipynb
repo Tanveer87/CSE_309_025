{
  "nbformat": 4,
  "nbformat_minor": 0,
  "metadata": {
    "colab": {
      "name": "Welcome To Colaboratory",
      "provenance": [],
      "collapsed_sections": [],
      "toc_visible": true,
      "include_colab_link": true
    },
    "kernelspec": {
      "display_name": "Python 3",
      "name": "python3"
    }
  },
  "cells": [
    {
      "cell_type": "markdown",
      "metadata": {
        "id": "view-in-github",
        "colab_type": "text"
      },
      "source": [
        "<a href=\"https://colab.research.google.com/github/Tanveer87/CSE_309_025/blob/master/Welcome_To_Colaboratory.ipynb\" target=\"_parent\"><img src=\"https://colab.research.google.com/assets/colab-badge.svg\" alt=\"Open In Colab\"/></a>"
      ]
    },
    {
      "cell_type": "code",
      "metadata": {
        "id": "sw6lk9ZJxPX_",
        "colab_type": "code",
        "colab": {}
      },
      "source": [
        "class Cat:\n",
        "  def __init__(self,color,birth_area,food):\n",
        "    self.color = color\n",
        "    self.birth_area = birth_area\n",
        "    self.food = food\n",
        "\n",
        "  def nail(self):\n",
        "    print(\"all types of cat have sharp nail\")\n",
        "  def show_info(self):\n",
        "    print(self.color,self.birth_area,self.food)\n",
        "    "
      ],
      "execution_count": 3,
      "outputs": []
    },
    {
      "cell_type": "code",
      "metadata": {
        "id": "kTGtT60SzB8Z",
        "colab_type": "code",
        "colab": {}
      },
      "source": [
        "class Big_cat(Cat):\n",
        " def size(self):\n",
        "   print(\"big size cat\")"
      ],
      "execution_count": 5,
      "outputs": []
    },
    {
      "cell_type": "code",
      "metadata": {
        "id": "TUgOCa1m0pyN",
        "colab_type": "code",
        "colab": {}
      },
      "source": [
        "class roaring_cat(Big_cat):\n",
        "  def roar(self):\n",
        "    print(\"roaring continiosly\")\n",
        "    "
      ],
      "execution_count": 6,
      "outputs": []
    },
    {
      "cell_type": "code",
      "metadata": {
        "id": "VQuAOu-o2UWN",
        "colab_type": "code",
        "colab": {}
      },
      "source": [
        "class jaguar(roaring_cat):\n",
        "  def body_weight(self):\n",
        "    print(\"57-113kg\")\n",
        "    "
      ],
      "execution_count": 7,
      "outputs": []
    },
    {
      "cell_type": "code",
      "metadata": {
        "id": "V1YyOtrg3tQr",
        "colab_type": "code",
        "colab": {}
      },
      "source": [
        "class leopard(roaring_cat):\n",
        "  def body_weight(self):\n",
        "    print(\"40-78kg\")"
      ],
      "execution_count": 8,
      "outputs": []
    },
    {
      "cell_type": "code",
      "metadata": {
        "id": "I1JX5qka4Ajv",
        "colab_type": "code",
        "colab": {}
      },
      "source": [
        "leopard1 = leopard(\"Black\",\"India\",\"carnivorous\")"
      ],
      "execution_count": 9,
      "outputs": []
    },
    {
      "cell_type": "code",
      "metadata": {
        "id": "VM6yrGzY-XHK",
        "colab_type": "code",
        "colab": {
          "base_uri": "https://localhost:8080/",
          "height": 34
        },
        "outputId": "21d4f60b-e3b8-403d-b60a-595fa4c26991"
      },
      "source": [
        "leopard1.body_weight()"
      ],
      "execution_count": 10,
      "outputs": [
        {
          "output_type": "stream",
          "text": [
            "40-78kg\n"
          ],
          "name": "stdout"
        }
      ]
    },
    {
      "cell_type": "code",
      "metadata": {
        "id": "TAThNtvz-ml2",
        "colab_type": "code",
        "colab": {
          "base_uri": "https://localhost:8080/",
          "height": 34
        },
        "outputId": "2274b9dd-33bb-4760-e6d8-faa6345c17b1"
      },
      "source": [
        "leopard1.show_info()"
      ],
      "execution_count": 11,
      "outputs": [
        {
          "output_type": "stream",
          "text": [
            "Black India carnivorous\n"
          ],
          "name": "stdout"
        }
      ]
    },
    {
      "cell_type": "code",
      "metadata": {
        "id": "gbtCswB3-w9n",
        "colab_type": "code",
        "colab": {}
      },
      "source": [
        "jaguar1 = jaguar(\"brownish\",\"American\",\"carnivorous\")"
      ],
      "execution_count": 12,
      "outputs": []
    },
    {
      "cell_type": "code",
      "metadata": {
        "id": "jaOQcbmH_BBx",
        "colab_type": "code",
        "colab": {
          "base_uri": "https://localhost:8080/",
          "height": 34
        },
        "outputId": "d0d94a68-b7f1-4bb9-d8fd-8971a513292a"
      },
      "source": [
        "jaguar1.nail() "
      ],
      "execution_count": 13,
      "outputs": [
        {
          "output_type": "stream",
          "text": [
            "all types of cat have sharp nail\n"
          ],
          "name": "stdout"
        }
      ]
    },
    {
      "cell_type": "code",
      "metadata": {
        "id": "P8O_l0ff5b0m",
        "colab_type": "code",
        "colab": {}
      },
      "source": [
        "class cheetah(Big_cat):\n",
        "  def move(self):\n",
        "    print(\"fastest animal in the world\")"
      ],
      "execution_count": 23,
      "outputs": []
    },
    {
      "cell_type": "code",
      "metadata": {
        "id": "1jFJNKY45nfn",
        "colab_type": "code",
        "colab": {}
      },
      "source": [
        "class african_cheetah(cheetah):\n",
        "  def run(self):\n",
        "    print(\"avarage speed is=20 km/hour\")"
      ],
      "execution_count": 24,
      "outputs": []
    },
    {
      "cell_type": "code",
      "metadata": {
        "id": "x53-F8Ah_blZ",
        "colab_type": "code",
        "colab": {}
      },
      "source": [
        "cheetah1 = african_cheetah(\"yellow\",\"africa\",\"carnivorous\")"
      ],
      "execution_count": 25,
      "outputs": []
    },
    {
      "cell_type": "code",
      "metadata": {
        "id": "qEMnDFtp_qEX",
        "colab_type": "code",
        "colab": {
          "base_uri": "https://localhost:8080/",
          "height": 34
        },
        "outputId": "4922757f-8fac-4ec6-eb32-3c9b8fac51d4"
      },
      "source": [
        "cheetah1.run()"
      ],
      "execution_count": 26,
      "outputs": [
        {
          "output_type": "stream",
          "text": [
            "avarage speed is=20 km/hour\n"
          ],
          "name": "stdout"
        }
      ]
    },
    {
      "cell_type": "code",
      "metadata": {
        "id": "64D2fkfx7vn2",
        "colab_type": "code",
        "colab": {}
      },
      "source": [
        "class small_cat(Cat):\n",
        " def nature(self):\n",
        "   print(\"these cat are very terrible and adorable\")\n",
        " def body_weight(self):\n",
        "    print(\"these are not small cat\")\n",
        " def eye(self):\n",
        "    print(\"have lovely eyes\")\n",
        "  "
      ],
      "execution_count": 39,
      "outputs": []
    },
    {
      "cell_type": "code",
      "metadata": {
        "id": "V0x-a_Qb8TYS",
        "colab_type": "code",
        "colab": {}
      },
      "source": [
        "class domestic_cat(small_cat):\n",
        "  def behaviour(self):\n",
        "     print(\"these cat are living with people\")\n",
        "  def hunt(self):\n",
        "      print(\"hunting rat\")\n",
        "     \n"
      ],
      "execution_count": 40,
      "outputs": []
    },
    {
      "cell_type": "code",
      "metadata": {
        "id": "Yma3nsY_AHlE",
        "colab_type": "code",
        "colab": {}
      },
      "source": [
        "d_cat = s= domestic_cat(\"white\",\"Bangladesh\",\"herbivorous\")"
      ],
      "execution_count": 41,
      "outputs": []
    },
    {
      "cell_type": "code",
      "metadata": {
        "id": "NPyXGvOUAYCP",
        "colab_type": "code",
        "colab": {
          "base_uri": "https://localhost:8080/",
          "height": 34
        },
        "outputId": "40ae1f71-5b15-4703-e32e-991bfb38939a"
      },
      "source": [
        "d_cat.show_info()"
      ],
      "execution_count": 42,
      "outputs": [
        {
          "output_type": "stream",
          "text": [
            "white Bangladesh herbivorous\n"
          ],
          "name": "stdout"
        }
      ]
    },
    {
      "cell_type": "code",
      "metadata": {
        "id": "E8I2DWvI9Dag",
        "colab_type": "code",
        "colab": {}
      },
      "source": [
        "class bobcat(small_cat):\n",
        "  def behaviour(self):\n",
        "     print(\"these cat are not cool in nature \")\n",
        "  def hunt(self):\n",
        "      print(\"hunting small insects\")\n",
        "     "
      ],
      "execution_count": 43,
      "outputs": []
    },
    {
      "cell_type": "code",
      "metadata": {
        "id": "NO3HvYvhAg4Y",
        "colab_type": "code",
        "colab": {}
      },
      "source": [
        "B_cat = bobcat(\"orange\",\"singapore\",\"herbivorous\")"
      ],
      "execution_count": 44,
      "outputs": []
    },
    {
      "cell_type": "code",
      "metadata": {
        "id": "Tg4VW_n-At22",
        "colab_type": "code",
        "colab": {
          "base_uri": "https://localhost:8080/",
          "height": 34
        },
        "outputId": "33aa64f1-ef27-441b-cd3e-423d42923d6f"
      },
      "source": [
        "B_cat.behaviour()"
      ],
      "execution_count": 45,
      "outputs": [
        {
          "output_type": "stream",
          "text": [
            "these cat are not cool in nature \n"
          ],
          "name": "stdout"
        }
      ]
    },
    {
      "cell_type": "code",
      "metadata": {
        "id": "8qVAZSEFA224",
        "colab_type": "code",
        "colab": {
          "base_uri": "https://localhost:8080/",
          "height": 34
        },
        "outputId": "6c541a8c-93c5-4d45-de81-5472b822e6f8"
      },
      "source": [
        "B_cat.hunt()"
      ],
      "execution_count": 46,
      "outputs": [
        {
          "output_type": "stream",
          "text": [
            "hunting small insects\n"
          ],
          "name": "stdout"
        }
      ]
    },
    {
      "cell_type": "code",
      "metadata": {
        "id": "zgZLzmGv6EuP",
        "colab_type": "code",
        "colab": {}
      },
      "source": [
        "class wild_cat(Cat):\n",
        " def nature(self):\n",
        "   print(\"these cat are very terrible\")\n",
        " def body_weight(self):\n",
        "    print(\"these are not very big\")\n",
        " def ear(self):\n",
        "    print(\"big big ear\")\n",
        "   "
      ],
      "execution_count": 47,
      "outputs": []
    },
    {
      "cell_type": "code",
      "metadata": {
        "id": "x9WkxKu67ma5",
        "colab_type": "code",
        "colab": {}
      },
      "source": [
        "class jungle_cat(small_cat,wild_cat):\n",
        "  def behaviour(self):\n",
        "     print(\"these cat are harmful\")\n",
        "  def harm(self):\n",
        "      print(\"biting\")"
      ],
      "execution_count": 48,
      "outputs": []
    },
    {
      "cell_type": "code",
      "metadata": {
        "id": "WQ2qzIXGA9Og",
        "colab_type": "code",
        "colab": {}
      },
      "source": [
        "j_cat = jungle_cat(\"Black\",\"carabian\",\"herbivorous\")"
      ],
      "execution_count": 49,
      "outputs": []
    },
    {
      "cell_type": "code",
      "metadata": {
        "id": "_ZeyVFCOCRVj",
        "colab_type": "code",
        "colab": {
          "base_uri": "https://localhost:8080/",
          "height": 34
        },
        "outputId": "f0a58cc3-1f6c-4bf6-a1cf-78e0bba7cc3a"
      },
      "source": [
        "j_cat.nature()"
      ],
      "execution_count": 50,
      "outputs": [
        {
          "output_type": "stream",
          "text": [
            "these cat are very terrible and adorable\n"
          ],
          "name": "stdout"
        }
      ]
    },
    {
      "cell_type": "code",
      "metadata": {
        "id": "8eKi6BR_Cgix",
        "colab_type": "code",
        "colab": {
          "base_uri": "https://localhost:8080/",
          "height": 34
        },
        "outputId": "75884722-e7a8-4779-9bca-d32e8153e9dd"
      },
      "source": [
        "j_cat.harm()"
      ],
      "execution_count": 51,
      "outputs": [
        {
          "output_type": "stream",
          "text": [
            "biting\n"
          ],
          "name": "stdout"
        }
      ]
    }
  ]
}